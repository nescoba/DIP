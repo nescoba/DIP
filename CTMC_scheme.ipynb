{
  "nbformat": 4,
  "nbformat_minor": 0,
  "metadata": {
    "colab": {
      "name": "CTMC_scheme.ipynb",
      "provenance": [],
      "authorship_tag": "ABX9TyMeHfl8N+POq3a82QjRLYTE",
      "include_colab_link": true
    },
    "kernelspec": {
      "name": "python3",
      "display_name": "Python 3"
    },
    "language_info": {
      "name": "python"
    }
  },
  "cells": [
    {
      "cell_type": "markdown",
      "metadata": {
        "id": "view-in-github",
        "colab_type": "text"
      },
      "source": [
        "<a href=\"https://colab.research.google.com/github/nescoba/DIP/blob/main/CTMC_scheme.ipynb\" target=\"_parent\"><img src=\"https://colab.research.google.com/assets/colab-badge.svg\" alt=\"Open In Colab\"/></a>"
      ]
    },
    {
      "cell_type": "code",
      "execution_count": 1,
      "metadata": {
        "id": "lwUg5GfCsogf"
      },
      "outputs": [],
      "source": [
        "import numpy as np\n",
        "import pandas as pd\n",
        "import matplotlib.pyplot as plt\n",
        "import seaborn as sns\n",
        "\n",
        "%matplotlib inline\n",
        "sns.set()"
      ]
    },
    {
      "cell_type": "code",
      "source": [
        "def intensity(x):\n",
        "    return 0.5 + np.power(x,2)\n",
        "\n",
        "v_intens = np.vectorize(intensity)"
      ],
      "metadata": {
        "id": "mPFyABsAtD4S"
      },
      "execution_count": 343,
      "outputs": []
    },
    {
      "cell_type": "code",
      "source": [
        "h = 0.01\n",
        "M = 100\n",
        "L = 1000000*M"
      ],
      "metadata": {
        "id": "6oN3IMHkGLqu"
      },
      "execution_count": 347,
      "outputs": []
    },
    {
      "cell_type": "code",
      "source": [
        "# def scheme():\n",
        "#     x=[0]\n",
        "#     y = []\n",
        "\n",
        "#     for m in range(1, 100*M):\n",
        "#         y_new = np.random.choice([0,1], p=[1 - h, h])\n",
        "#         y.append(y_new)\n",
        "\n",
        "#     Y = np.cumsum(y)\n",
        "\n",
        "#     for m in range(1, M):\n",
        "#         argum = 0\n",
        "#         for n in range(m):\n",
        "#             argum += intensity(x[n])*h    \n",
        "#         x_new = Y[int(argum/h)]\n",
        "#         x.append(x_new)\n",
        "\n",
        "#     x = np.vstack(x)\n",
        "#     x = x[:, 0]\n",
        "#     x = pd.Series(x, index=np.arange(start=0, step=h, stop=M*h))\n",
        "\n",
        "#     phi = pd.Series(x/M, index=x.index/M) \n",
        "\n",
        "#     return [x.loc[1],  - phi.loc[1]/(5*h/M)]"
      ],
      "metadata": {
        "id": "c8XB_jTTw4-Z"
      },
      "execution_count": 218,
      "outputs": []
    },
    {
      "cell_type": "code",
      "source": [
        "# phi.loc[1 + 5*h/M]"
      ],
      "metadata": {
        "id": "q9sugJiL8MVb"
      },
      "execution_count": null,
      "outputs": []
    },
    {
      "cell_type": "code",
      "source": [
        "# for n in range(1000):\n",
        "#     print(scheme())"
      ],
      "metadata": {
        "id": "JrwVpFy7zgY4"
      },
      "execution_count": 42,
      "outputs": []
    },
    {
      "cell_type": "markdown",
      "source": [
        "----"
      ],
      "metadata": {
        "id": "P_k5quhlMV0c"
      }
    },
    {
      "cell_type": "code",
      "source": [
        "y = np.random.choice([0,1], p=[1 - h, h], size=(L-1))\n",
        "\n",
        "Y = pd.Series(np.cumsum(y), index=np.arange(start=h, stop=L*h, step=h))"
      ],
      "metadata": {
        "id": "l99JrW5M0IJ1"
      },
      "execution_count": 293,
      "outputs": []
    },
    {
      "cell_type": "code",
      "source": [
        "Y"
      ],
      "metadata": {
        "colab": {
          "base_uri": "https://localhost:8080/"
        },
        "id": "Iprbu8GP8rkF",
        "outputId": "a2a2cefe-605a-482f-86f3-9d368af9df8b"
      },
      "execution_count": 294,
      "outputs": [
        {
          "output_type": "execute_result",
          "data": {
            "text/plain": [
              "0.01          0\n",
              "0.02          0\n",
              "0.03          0\n",
              "0.04          0\n",
              "0.05          0\n",
              "           ... \n",
              "1999.95    1974\n",
              "1999.96    1974\n",
              "1999.97    1974\n",
              "1999.98    1974\n",
              "1999.99    1974\n",
              "Length: 199999, dtype: int64"
            ]
          },
          "metadata": {},
          "execution_count": 294
        }
      ]
    },
    {
      "cell_type": "code",
      "source": [
        "x = pd.Series([0], index=[0])\n",
        "for m in range(1, M):\n",
        "    argum = 0\n",
        "    for n in range(m):\n",
        "        argum += intensity(x.loc[n*h])*h    \n",
        "    x_new = Y.iloc[int(argum/h)]\n",
        "    x.loc[m*h] = x_new\n",
        "\n",
        "x"
      ],
      "metadata": {
        "colab": {
          "base_uri": "https://localhost:8080/"
        },
        "id": "XlhSx-Wx8hG-",
        "outputId": "d0d15b2e-745c-46c0-fd96-4eaf42617ce0"
      },
      "execution_count": 302,
      "outputs": [
        {
          "output_type": "execute_result",
          "data": {
            "text/plain": [
              "0.00    0\n",
              "0.01    0\n",
              "0.02    0\n",
              "0.03    0\n",
              "0.04    0\n",
              "       ..\n",
              "0.95    7\n",
              "0.96    7\n",
              "0.97    7\n",
              "0.98    7\n",
              "0.99    7\n",
              "Length: 100, dtype: int64"
            ]
          },
          "metadata": {},
          "execution_count": 302
        }
      ]
    },
    {
      "cell_type": "code",
      "source": [
        "N = 20\n",
        "\n",
        "z = pd.Series([0], index=[0])\n",
        "for m in range(1, M):\n",
        "    argum = 0\n",
        "    for n in range(m):\n",
        "        argum += intensity(x.loc[n*h])*h    \n",
        "    z_new = Y.iloc[int(argum/h)*N]\n",
        "    z.loc[m*h] = z_new\n",
        "\n",
        "phi = pd.Series(z/N, index=z.index)\n",
        "phi"
      ],
      "metadata": {
        "colab": {
          "base_uri": "https://localhost:8080/"
        },
        "id": "PSP3-aK-8lcR",
        "outputId": "dada94c6-5b14-41a4-d6e9-d282e769a0a9"
      },
      "execution_count": 303,
      "outputs": [
        {
          "output_type": "execute_result",
          "data": {
            "text/plain": [
              "0.00    0.00\n",
              "0.01    0.05\n",
              "0.02    0.10\n",
              "0.03    0.20\n",
              "0.04    0.25\n",
              "        ... \n",
              "0.95    7.40\n",
              "0.96    7.50\n",
              "0.97    7.55\n",
              "0.98    7.55\n",
              "0.99    7.75\n",
              "Length: 100, dtype: float64"
            ]
          },
          "metadata": {},
          "execution_count": 303
        }
      ]
    },
    {
      "cell_type": "code",
      "source": [
        "[x.loc[0.5], (phi.loc[0.5+0.1] - phi.loc[0.5])/0.1]"
      ],
      "metadata": {
        "colab": {
          "base_uri": "https://localhost:8080/"
        },
        "id": "Idq159ozJw8z",
        "outputId": "b7b95778-a8d3-496d-ee53-916dcdd0e1fa"
      },
      "execution_count": 269,
      "outputs": [
        {
          "output_type": "execute_result",
          "data": {
            "text/plain": [
              "[0, 5.499999999999998]"
            ]
          },
          "metadata": {},
          "execution_count": 269
        }
      ]
    },
    {
      "cell_type": "markdown",
      "source": [
        "------"
      ],
      "metadata": {
        "id": "CNjoEDYwVVaT"
      }
    },
    {
      "cell_type": "code",
      "source": [
        "def scheme_corrected():\n",
        "\n",
        "    y = np.random.choice([0,1], p=[1 - h, h], size=(L-1))\n",
        "        \n",
        "    Y = pd.Series(np.cumsum(y), index=np.arange(start=h, stop=L*h, step=h))\n",
        "\n",
        "    x = pd.Series([0], index=[0])\n",
        "    for m in range(1, M):\n",
        "        argum = 0\n",
        "        for n in range(m):\n",
        "            argum += intensity(x.loc[n*h])*h    \n",
        "        x_new = Y.iloc[int(argum/h)]\n",
        "        x.loc[m*h] = x_new\n",
        "\n",
        "    \n",
        "    N = 20\n",
        "\n",
        "    z = pd.Series([0], index=[0])\n",
        "    for m in range(1, M):\n",
        "        argum = 0\n",
        "        for n in range(m):\n",
        "            argum += intensity(x.loc[n*h])*h    \n",
        "        z_new = Y.iloc[int(argum/h)*N]\n",
        "        z.loc[m*h] = z_new\n",
        "\n",
        "    phi = pd.Series(z/N, index=z.index)\n",
        "    \n",
        "    return pd.DataFrame({'x':[x.loc[0.5]], 'lambda': [(phi.loc[0.5+0.1] - phi.loc[0.5])/0.1]})"
      ],
      "metadata": {
        "id": "UCL3Bx5OVKZs"
      },
      "execution_count": 332,
      "outputs": []
    },
    {
      "cell_type": "code",
      "source": [
        "data = pd.DataFrame(columns=['x', 'lambda'])\n",
        "for n in range(25):\n",
        "    new_data = scheme_corrected()\n",
        "    print(n)\n",
        "    data = pd.concat([data, new_data])"
      ],
      "metadata": {
        "colab": {
          "base_uri": "https://localhost:8080/"
        },
        "id": "cJabkrp_V2BU",
        "outputId": "44f0e011-be1f-4698-8765-05783def7184"
      },
      "execution_count": 349,
      "outputs": [
        {
          "output_type": "stream",
          "name": "stdout",
          "text": [
            "0\n",
            "1\n",
            "2\n",
            "3\n",
            "4\n",
            "5\n",
            "6\n",
            "7\n",
            "8\n",
            "9\n",
            "10\n",
            "11\n",
            "12\n",
            "13\n",
            "14\n",
            "15\n",
            "16\n",
            "17\n",
            "18\n",
            "19\n",
            "20\n",
            "21\n",
            "22\n",
            "23\n",
            "24\n"
          ]
        }
      ]
    },
    {
      "cell_type": "code",
      "source": [
        "data"
      ],
      "metadata": {
        "colab": {
          "base_uri": "https://localhost:8080/",
          "height": 834
        },
        "id": "h7Jk1uo7Z4hF",
        "outputId": "66d65a39-6757-4bfd-b48f-67311f2ef0cb"
      },
      "execution_count": 350,
      "outputs": [
        {
          "output_type": "execute_result",
          "data": {
            "text/plain": [
              "   x  lambda\n",
              "0  3     7.5\n",
              "0  0     0.5\n",
              "0  0     0.5\n",
              "0  0     1.0\n",
              "0  0     0.5\n",
              "0  0     0.0\n",
              "0  0     0.0\n",
              "0  0     0.5\n",
              "0  0     1.0\n",
              "0  0     1.0\n",
              "0  0     0.0\n",
              "0  0     1.0\n",
              "0  1     1.5\n",
              "0  0     0.5\n",
              "0  2     3.0\n",
              "0  2     4.0\n",
              "0  1     2.5\n",
              "0  1     2.5\n",
              "0  0     1.5\n",
              "0  1     1.0\n",
              "0  0     0.0\n",
              "0  0     1.0\n",
              "0  0     0.5\n",
              "0  0     0.0\n",
              "0  0     0.0"
            ],
            "text/html": [
              "\n",
              "  <div id=\"df-9d5a6cbb-4d09-4964-99f5-14b247867871\">\n",
              "    <div class=\"colab-df-container\">\n",
              "      <div>\n",
              "<style scoped>\n",
              "    .dataframe tbody tr th:only-of-type {\n",
              "        vertical-align: middle;\n",
              "    }\n",
              "\n",
              "    .dataframe tbody tr th {\n",
              "        vertical-align: top;\n",
              "    }\n",
              "\n",
              "    .dataframe thead th {\n",
              "        text-align: right;\n",
              "    }\n",
              "</style>\n",
              "<table border=\"1\" class=\"dataframe\">\n",
              "  <thead>\n",
              "    <tr style=\"text-align: right;\">\n",
              "      <th></th>\n",
              "      <th>x</th>\n",
              "      <th>lambda</th>\n",
              "    </tr>\n",
              "  </thead>\n",
              "  <tbody>\n",
              "    <tr>\n",
              "      <th>0</th>\n",
              "      <td>3</td>\n",
              "      <td>7.5</td>\n",
              "    </tr>\n",
              "    <tr>\n",
              "      <th>0</th>\n",
              "      <td>0</td>\n",
              "      <td>0.5</td>\n",
              "    </tr>\n",
              "    <tr>\n",
              "      <th>0</th>\n",
              "      <td>0</td>\n",
              "      <td>0.5</td>\n",
              "    </tr>\n",
              "    <tr>\n",
              "      <th>0</th>\n",
              "      <td>0</td>\n",
              "      <td>1.0</td>\n",
              "    </tr>\n",
              "    <tr>\n",
              "      <th>0</th>\n",
              "      <td>0</td>\n",
              "      <td>0.5</td>\n",
              "    </tr>\n",
              "    <tr>\n",
              "      <th>0</th>\n",
              "      <td>0</td>\n",
              "      <td>0.0</td>\n",
              "    </tr>\n",
              "    <tr>\n",
              "      <th>0</th>\n",
              "      <td>0</td>\n",
              "      <td>0.0</td>\n",
              "    </tr>\n",
              "    <tr>\n",
              "      <th>0</th>\n",
              "      <td>0</td>\n",
              "      <td>0.5</td>\n",
              "    </tr>\n",
              "    <tr>\n",
              "      <th>0</th>\n",
              "      <td>0</td>\n",
              "      <td>1.0</td>\n",
              "    </tr>\n",
              "    <tr>\n",
              "      <th>0</th>\n",
              "      <td>0</td>\n",
              "      <td>1.0</td>\n",
              "    </tr>\n",
              "    <tr>\n",
              "      <th>0</th>\n",
              "      <td>0</td>\n",
              "      <td>0.0</td>\n",
              "    </tr>\n",
              "    <tr>\n",
              "      <th>0</th>\n",
              "      <td>0</td>\n",
              "      <td>1.0</td>\n",
              "    </tr>\n",
              "    <tr>\n",
              "      <th>0</th>\n",
              "      <td>1</td>\n",
              "      <td>1.5</td>\n",
              "    </tr>\n",
              "    <tr>\n",
              "      <th>0</th>\n",
              "      <td>0</td>\n",
              "      <td>0.5</td>\n",
              "    </tr>\n",
              "    <tr>\n",
              "      <th>0</th>\n",
              "      <td>2</td>\n",
              "      <td>3.0</td>\n",
              "    </tr>\n",
              "    <tr>\n",
              "      <th>0</th>\n",
              "      <td>2</td>\n",
              "      <td>4.0</td>\n",
              "    </tr>\n",
              "    <tr>\n",
              "      <th>0</th>\n",
              "      <td>1</td>\n",
              "      <td>2.5</td>\n",
              "    </tr>\n",
              "    <tr>\n",
              "      <th>0</th>\n",
              "      <td>1</td>\n",
              "      <td>2.5</td>\n",
              "    </tr>\n",
              "    <tr>\n",
              "      <th>0</th>\n",
              "      <td>0</td>\n",
              "      <td>1.5</td>\n",
              "    </tr>\n",
              "    <tr>\n",
              "      <th>0</th>\n",
              "      <td>1</td>\n",
              "      <td>1.0</td>\n",
              "    </tr>\n",
              "    <tr>\n",
              "      <th>0</th>\n",
              "      <td>0</td>\n",
              "      <td>0.0</td>\n",
              "    </tr>\n",
              "    <tr>\n",
              "      <th>0</th>\n",
              "      <td>0</td>\n",
              "      <td>1.0</td>\n",
              "    </tr>\n",
              "    <tr>\n",
              "      <th>0</th>\n",
              "      <td>0</td>\n",
              "      <td>0.5</td>\n",
              "    </tr>\n",
              "    <tr>\n",
              "      <th>0</th>\n",
              "      <td>0</td>\n",
              "      <td>0.0</td>\n",
              "    </tr>\n",
              "    <tr>\n",
              "      <th>0</th>\n",
              "      <td>0</td>\n",
              "      <td>0.0</td>\n",
              "    </tr>\n",
              "  </tbody>\n",
              "</table>\n",
              "</div>\n",
              "      <button class=\"colab-df-convert\" onclick=\"convertToInteractive('df-9d5a6cbb-4d09-4964-99f5-14b247867871')\"\n",
              "              title=\"Convert this dataframe to an interactive table.\"\n",
              "              style=\"display:none;\">\n",
              "        \n",
              "  <svg xmlns=\"http://www.w3.org/2000/svg\" height=\"24px\"viewBox=\"0 0 24 24\"\n",
              "       width=\"24px\">\n",
              "    <path d=\"M0 0h24v24H0V0z\" fill=\"none\"/>\n",
              "    <path d=\"M18.56 5.44l.94 2.06.94-2.06 2.06-.94-2.06-.94-.94-2.06-.94 2.06-2.06.94zm-11 1L8.5 8.5l.94-2.06 2.06-.94-2.06-.94L8.5 2.5l-.94 2.06-2.06.94zm10 10l.94 2.06.94-2.06 2.06-.94-2.06-.94-.94-2.06-.94 2.06-2.06.94z\"/><path d=\"M17.41 7.96l-1.37-1.37c-.4-.4-.92-.59-1.43-.59-.52 0-1.04.2-1.43.59L10.3 9.45l-7.72 7.72c-.78.78-.78 2.05 0 2.83L4 21.41c.39.39.9.59 1.41.59.51 0 1.02-.2 1.41-.59l7.78-7.78 2.81-2.81c.8-.78.8-2.07 0-2.86zM5.41 20L4 18.59l7.72-7.72 1.47 1.35L5.41 20z\"/>\n",
              "  </svg>\n",
              "      </button>\n",
              "      \n",
              "  <style>\n",
              "    .colab-df-container {\n",
              "      display:flex;\n",
              "      flex-wrap:wrap;\n",
              "      gap: 12px;\n",
              "    }\n",
              "\n",
              "    .colab-df-convert {\n",
              "      background-color: #E8F0FE;\n",
              "      border: none;\n",
              "      border-radius: 50%;\n",
              "      cursor: pointer;\n",
              "      display: none;\n",
              "      fill: #1967D2;\n",
              "      height: 32px;\n",
              "      padding: 0 0 0 0;\n",
              "      width: 32px;\n",
              "    }\n",
              "\n",
              "    .colab-df-convert:hover {\n",
              "      background-color: #E2EBFA;\n",
              "      box-shadow: 0px 1px 2px rgba(60, 64, 67, 0.3), 0px 1px 3px 1px rgba(60, 64, 67, 0.15);\n",
              "      fill: #174EA6;\n",
              "    }\n",
              "\n",
              "    [theme=dark] .colab-df-convert {\n",
              "      background-color: #3B4455;\n",
              "      fill: #D2E3FC;\n",
              "    }\n",
              "\n",
              "    [theme=dark] .colab-df-convert:hover {\n",
              "      background-color: #434B5C;\n",
              "      box-shadow: 0px 1px 3px 1px rgba(0, 0, 0, 0.15);\n",
              "      filter: drop-shadow(0px 1px 2px rgba(0, 0, 0, 0.3));\n",
              "      fill: #FFFFFF;\n",
              "    }\n",
              "  </style>\n",
              "\n",
              "      <script>\n",
              "        const buttonEl =\n",
              "          document.querySelector('#df-9d5a6cbb-4d09-4964-99f5-14b247867871 button.colab-df-convert');\n",
              "        buttonEl.style.display =\n",
              "          google.colab.kernel.accessAllowed ? 'block' : 'none';\n",
              "\n",
              "        async function convertToInteractive(key) {\n",
              "          const element = document.querySelector('#df-9d5a6cbb-4d09-4964-99f5-14b247867871');\n",
              "          const dataTable =\n",
              "            await google.colab.kernel.invokeFunction('convertToInteractive',\n",
              "                                                     [key], {});\n",
              "          if (!dataTable) return;\n",
              "\n",
              "          const docLinkHtml = 'Like what you see? Visit the ' +\n",
              "            '<a target=\"_blank\" href=https://colab.research.google.com/notebooks/data_table.ipynb>data table notebook</a>'\n",
              "            + ' to learn more about interactive tables.';\n",
              "          element.innerHTML = '';\n",
              "          dataTable['output_type'] = 'display_data';\n",
              "          await google.colab.output.renderOutput(dataTable, element);\n",
              "          const docLink = document.createElement('div');\n",
              "          docLink.innerHTML = docLinkHtml;\n",
              "          element.appendChild(docLink);\n",
              "        }\n",
              "      </script>\n",
              "    </div>\n",
              "  </div>\n",
              "  "
            ]
          },
          "metadata": {},
          "execution_count": 350
        }
      ]
    },
    {
      "cell_type": "code",
      "source": [
        "info = data.groupby('x')['lambda'].mean()"
      ],
      "metadata": {
        "id": "RyIhLAJ0V7jj"
      },
      "execution_count": 351,
      "outputs": []
    },
    {
      "cell_type": "code",
      "source": [
        "info"
      ],
      "metadata": {
        "colab": {
          "base_uri": "https://localhost:8080/"
        },
        "id": "tQ79Rv1bkCL2",
        "outputId": "cbf71d01-49b3-4add-8a5e-c2f3a6024fd1"
      },
      "execution_count": 352,
      "outputs": [
        {
          "output_type": "execute_result",
          "data": {
            "text/plain": [
              "x\n",
              "0    0.527778\n",
              "1    1.875000\n",
              "2    3.500000\n",
              "3    7.500000\n",
              "Name: lambda, dtype: float64"
            ]
          },
          "metadata": {},
          "execution_count": 352
        }
      ]
    },
    {
      "cell_type": "code",
      "source": [
        "plt.plot(info[:])\n",
        "plt.plot(info.index, v_intens(info.index))"
      ],
      "metadata": {
        "colab": {
          "base_uri": "https://localhost:8080/",
          "height": 286
        },
        "id": "lr9JDw2sY2G4",
        "outputId": "28af98fd-7a40-4e2b-e9bf-5b3499d26d4f"
      },
      "execution_count": 353,
      "outputs": [
        {
          "output_type": "execute_result",
          "data": {
            "text/plain": [
              "[<matplotlib.lines.Line2D at 0x7f1330d9a610>]"
            ]
          },
          "metadata": {},
          "execution_count": 353
        },
        {
          "output_type": "display_data",
          "data": {
            "text/plain": [
              "<Figure size 432x288 with 1 Axes>"
            ],
            "image/png": "[encoded data removed]"
          },
          "metadata": {
            "needs_background": "light"
          }
        }
      ]
    },
    {
      "cell_type": "code",
      "source": [
        ""
      ],
      "metadata": {
        "id": "JvgRYrzTeHW6"
      },
      "execution_count": null,
      "outputs": []
    }
  ]
}