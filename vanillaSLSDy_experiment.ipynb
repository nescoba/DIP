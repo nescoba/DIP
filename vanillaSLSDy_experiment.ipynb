{
  "nbformat": 4,
  "nbformat_minor": 0,
  "metadata": {
    "colab": {
      "name": "vanillaSLSDy_experiment.ipynb",
      "provenance": [],
      "authorship_tag": "ABX9TyM78cfveEPilus8pVE/Y+a8",
      "include_colab_link": true
    },
    "kernelspec": {
      "name": "python3",
      "display_name": "Python 3"
    },
    "language_info": {
      "name": "python"
    }
  },
  "cells": [
    {
      "cell_type": "markdown",
      "metadata": {
        "id": "view-in-github",
        "colab_type": "text"
      },
      "source": [
        "<a href=\"https://colab.research.google.com/github/nescoba/DIP/blob/main/vanillaSLSDy_experiment.ipynb\" target=\"_parent\"><img src=\"https://colab.research.google.com/assets/colab-badge.svg\" alt=\"Open In Colab\"/></a>"
      ]
    },
    {
      "cell_type": "code",
      "source": [
        "import numpy as np\n",
        "import pandas as pd\n",
        "import matplotlib.pyplot as plt\n",
        "import seaborn as sns \n",
        "\n",
        "%matplotlib inline \n",
        "sns.set()"
      ],
      "metadata": {
        "id": "iWE8DIo9jvw5"
      },
      "execution_count": 1,
      "outputs": []
    },
    {
      "cell_type": "code",
      "execution_count": 7,
      "metadata": {
        "colab": {
          "base_uri": "https://localhost:8080/",
          "height": 346
        },
        "id": "fXYLia_OjACC",
        "outputId": "15272157-d705-4e1f-84c8-eb07be19494a"
      },
      "outputs": [
        {
          "output_type": "stream",
          "name": "stderr",
          "text": [
            "/usr/local/lib/python3.7/dist-packages/numpy/core/shape_base.py:65: VisibleDeprecationWarning: Creating an ndarray from ragged nested sequences (which is a list-or-tuple of lists-or-tuples-or ndarrays with different lengths or shapes) is deprecated. If you meant to do this, you must specify 'dtype=object' when creating the ndarray.\n",
            "  ary = asanyarray(ary)\n"
          ]
        },
        {
          "output_type": "execute_result",
          "data": {
            "text/plain": [
              "[<matplotlib.lines.Line2D at 0x7f1b99ecdd10>]"
            ]
          },
          "metadata": {},
          "execution_count": 7
        },
        {
          "output_type": "display_data",
          "data": {
            "image/png": "[encoded data removed]",
            "text/plain": [
              "<Figure size 432x288 with 1 Axes>"
            ]
          },
          "metadata": {
            "needs_background": "light"
          }
        }
      ],
      "source": [
        "def mu(t, x):\n",
        "    return x*(1 - x)\n",
        "\n",
        "def sigma(t, x):\n",
        "    return 1 \n",
        "\n",
        "h = 0.01\n",
        "M = 1000\n",
        "\n",
        "x=[0]\n",
        "\n",
        "for m in range(1, M):\n",
        "    x_new = x[m-1] + mu((m-1)*h, x[m-1])*h + sigma((m-1)*h, x[m-1])*np.sqrt(h)*np.random.standard_normal(size=1)\n",
        "    x.append(x_new)\n",
        "\n",
        "plt.plot(np.arange(M), x)"
      ]
    },
    {
      "cell_type": "code",
      "source": [
        "x = np.vstack(x)"
      ],
      "metadata": {
        "id": "nwEPFcSznRys"
      },
      "execution_count": 32,
      "outputs": []
    },
    {
      "cell_type": "code",
      "source": [
        "from sklearn.preprocessing import PolynomialFeatures\n",
        "poly = PolynomialFeatures(5)\n",
        "X = poly.fit_transform(x[1:])"
      ],
      "metadata": {
        "id": "W3eS9jZflZ6W"
      },
      "execution_count": 33,
      "outputs": []
    },
    {
      "cell_type": "code",
      "source": [
        "x_ts = pd.Series(x[:, 0])"
      ],
      "metadata": {
        "id": "8BHi81sum5ip"
      },
      "execution_count": 34,
      "outputs": []
    },
    {
      "cell_type": "code",
      "source": [
        "import statsmodels.api as sm\n",
        "modelmu = sm.OLS(x_ts.diff()[1:], X)\n",
        "resultmu = modelmu.fit()\n",
        "print(resultmu.summary())"
      ],
      "metadata": {
        "colab": {
          "base_uri": "https://localhost:8080/"
        },
        "id": "W0pOntGwov8H",
        "outputId": "eaaeb3f8-b37d-4834-a4f5-350f4002c584"
      },
      "execution_count": 35,
      "outputs": [
        {
          "output_type": "stream",
          "name": "stdout",
          "text": [
            "                            OLS Regression Results                            \n",
            "==============================================================================\n",
            "Dep. Variable:                      y   R-squared:                       0.016\n",
            "Model:                            OLS   Adj. R-squared:                  0.011\n",
            "Method:                 Least Squares   F-statistic:                     3.287\n",
            "Date:                Fri, 11 Mar 2022   Prob (F-statistic):            0.00597\n",
            "Time:                        15:47:12   Log-Likelihood:                 939.13\n",
            "No. Observations:                 999   AIC:                            -1866.\n",
            "Df Residuals:                     993   BIC:                            -1837.\n",
            "Df Model:                           5                                         \n",
            "Covariance Type:            nonrobust                                         \n",
            "==============================================================================\n",
            "                 coef    std err          t      P>|t|      [0.025      0.975]\n",
            "------------------------------------------------------------------------------\n",
            "const         -0.0066      0.007     -0.964      0.335      -0.020       0.007\n",
            "x1             0.0962      0.030      3.261      0.001       0.038       0.154\n",
            "x2            -0.2273      0.103     -2.214      0.027      -0.429      -0.026\n",
            "x3             0.1875      0.163      1.152      0.250      -0.132       0.507\n",
            "x4            -0.0601      0.098     -0.611      0.542      -0.253       0.133\n",
            "x5             0.0066      0.020      0.332      0.740      -0.033       0.046\n",
            "==============================================================================\n",
            "Omnibus:                       10.345   Durbin-Watson:                   1.998\n",
            "Prob(Omnibus):                  0.006   Jarque-Bera (JB):                7.160\n",
            "Skew:                           0.061   Prob(JB):                       0.0279\n",
            "Kurtosis:                       2.604   Cond. No.                         779.\n",
            "==============================================================================\n",
            "\n",
            "Warnings:\n",
            "[1] Standard Errors assume that the covariance matrix of the errors is correctly specified.\n"
          ]
        }
      ]
    },
    {
      "cell_type": "code",
      "source": [
        "modelsigma = sm.OLS(x_ts.diff()[1:]*x_ts.diff()[1:], X)\n",
        "resultssigma = modelsigma.fit()\n",
        "print(resultssigma.summary())"
      ],
      "metadata": {
        "colab": {
          "base_uri": "https://localhost:8080/"
        },
        "id": "ux5x3tryqMBD",
        "outputId": "deb26ee9-a6db-4cf8-933d-3f48ba6af7aa"
      },
      "execution_count": 36,
      "outputs": [
        {
          "output_type": "stream",
          "name": "stdout",
          "text": [
            "                            OLS Regression Results                            \n",
            "==============================================================================\n",
            "Dep. Variable:                      y   R-squared:                       0.007\n",
            "Model:                            OLS   Adj. R-squared:                  0.002\n",
            "Method:                 Least Squares   F-statistic:                     1.448\n",
            "Date:                Fri, 11 Mar 2022   Prob (F-statistic):              0.205\n",
            "Time:                        15:51:07   Log-Likelihood:                 3030.7\n",
            "No. Observations:                 999   AIC:                            -6049.\n",
            "Df Residuals:                     993   BIC:                            -6020.\n",
            "Df Model:                           5                                         \n",
            "Covariance Type:            nonrobust                                         \n",
            "==============================================================================\n",
            "                 coef    std err          t      P>|t|      [0.025      0.975]\n",
            "------------------------------------------------------------------------------\n",
            "const          0.0085      0.001     10.086      0.000       0.007       0.010\n",
            "x1            -0.0056      0.004     -1.551      0.121      -0.013       0.001\n",
            "x2             0.0294      0.013      2.325      0.020       0.005       0.054\n",
            "x3            -0.0408      0.020     -2.037      0.042      -0.080      -0.001\n",
            "x4             0.0216      0.012      1.776      0.076      -0.002       0.045\n",
            "x5            -0.0038      0.002     -1.548      0.122      -0.009       0.001\n",
            "==============================================================================\n",
            "Omnibus:                      480.598   Durbin-Watson:                   2.122\n",
            "Prob(Omnibus):                  0.000   Jarque-Bera (JB):             2531.935\n",
            "Skew:                           2.227   Prob(JB):                         0.00\n",
            "Kurtosis:                       9.403   Cond. No.                         779.\n",
            "==============================================================================\n",
            "\n",
            "Warnings:\n",
            "[1] Standard Errors assume that the covariance matrix of the errors is correctly specified.\n"
          ]
        }
      ]
    },
    {
      "cell_type": "code",
      "source": [
        ""
      ],
      "metadata": {
        "id": "qcH9o4fDrSZh"
      },
      "execution_count": null,
      "outputs": []
    }
  ]
}