{
  "nbformat": 4,
  "nbformat_minor": 0,
  "metadata": {
    "colab": {
      "name": "vanillaSINDy.ipynb",
      "provenance": [],
      "authorship_tag": "ABX9TyMRlwSDy5h7vQJMfeoSUiF5",
      "include_colab_link": true
    },
    "kernelspec": {
      "name": "python3",
      "display_name": "Python 3"
    },
    "language_info": {
      "name": "python"
    }
  },
  "cells": [
    {
      "cell_type": "markdown",
      "metadata": {
        "id": "view-in-github",
        "colab_type": "text"
      },
      "source": [
        "<a href=\"https://colab.research.google.com/github/nescoba/DIP/blob/main/vanillaSINDy.ipynb\" target=\"_parent\"><img src=\"https://colab.research.google.com/assets/colab-badge.svg\" alt=\"Open In Colab\"/></a>"
      ]
    },
    {
      "cell_type": "markdown",
      "source": [
        "# First attempt, or 'vanilla' SINDy"
      ],
      "metadata": {
        "id": "Wja_U8gHfMDG"
      }
    },
    {
      "cell_type": "markdown",
      "source": [
        "## Importing data and libraries, disregard"
      ],
      "metadata": {
        "id": "9xi3CZCkfZ8X"
      }
    },
    {
      "cell_type": "code",
      "source": [
        "import seaborn as sns\n",
        "import numpy as np\n",
        "\n",
        "sns.set()"
      ],
      "metadata": {
        "id": "FaqsDQ6OPzCj"
      },
      "execution_count": 16,
      "outputs": []
    },
    {
      "cell_type": "code",
      "execution_count": 1,
      "metadata": {
        "colab": {
          "base_uri": "https://localhost:8080/"
        },
        "id": "LvmWCOcQKimP",
        "outputId": "876b5ff9-910e-4640-b252-fc5cc44e698c"
      },
      "outputs": [
        {
          "output_type": "stream",
          "name": "stdout",
          "text": [
            "Mounted at /content/drive\n"
          ]
        }
      ],
      "source": [
        "from google.colab import drive\n",
        "drive.mount('/content/drive')"
      ]
    },
    {
      "cell_type": "code",
      "source": [
        "path = '/content/drive/MyDrive/data/10G.csv'"
      ],
      "metadata": {
        "id": "pjqnU8xFK3WV"
      },
      "execution_count": 2,
      "outputs": []
    },
    {
      "cell_type": "code",
      "source": [
        "import pandas as pd\n",
        "\n",
        "green10 = pd.read_csv(path, header=None)\n",
        "green10.head()"
      ],
      "metadata": {
        "colab": {
          "base_uri": "https://localhost:8080/",
          "height": 299
        },
        "id": "9RdpP3EYL0Gk",
        "outputId": "92ab090d-bb18-4015-e4d4-5f94ccc6cd08"
      },
      "execution_count": 4,
      "outputs": [
        {
          "output_type": "execute_result",
          "data": {
            "text/html": [
              "\n",
              "  <div id=\"df-43f845cc-774b-452a-8957-f056582812ab\">\n",
              "    <div class=\"colab-df-container\">\n",
              "      <div>\n",
              "<style scoped>\n",
              "    .dataframe tbody tr th:only-of-type {\n",
              "        vertical-align: middle;\n",
              "    }\n",
              "\n",
              "    .dataframe tbody tr th {\n",
              "        vertical-align: top;\n",
              "    }\n",
              "\n",
              "    .dataframe thead th {\n",
              "        text-align: right;\n",
              "    }\n",
              "</style>\n",
              "<table border=\"1\" class=\"dataframe\">\n",
              "  <thead>\n",
              "    <tr style=\"text-align: right;\">\n",
              "      <th></th>\n",
              "      <th>0</th>\n",
              "      <th>1</th>\n",
              "      <th>2</th>\n",
              "      <th>3</th>\n",
              "      <th>4</th>\n",
              "      <th>5</th>\n",
              "      <th>6</th>\n",
              "      <th>7</th>\n",
              "      <th>8</th>\n",
              "      <th>9</th>\n",
              "      <th>10</th>\n",
              "      <th>11</th>\n",
              "      <th>12</th>\n",
              "      <th>13</th>\n",
              "      <th>14</th>\n",
              "      <th>15</th>\n",
              "      <th>16</th>\n",
              "      <th>17</th>\n",
              "      <th>18</th>\n",
              "      <th>19</th>\n",
              "      <th>20</th>\n",
              "      <th>21</th>\n",
              "      <th>22</th>\n",
              "      <th>23</th>\n",
              "      <th>24</th>\n",
              "      <th>25</th>\n",
              "      <th>26</th>\n",
              "      <th>27</th>\n",
              "      <th>28</th>\n",
              "      <th>29</th>\n",
              "      <th>30</th>\n",
              "      <th>31</th>\n",
              "      <th>32</th>\n",
              "      <th>33</th>\n",
              "      <th>34</th>\n",
              "      <th>35</th>\n",
              "      <th>36</th>\n",
              "      <th>37</th>\n",
              "      <th>38</th>\n",
              "      <th>39</th>\n",
              "      <th>...</th>\n",
              "      <th>11558</th>\n",
              "      <th>11559</th>\n",
              "      <th>11560</th>\n",
              "      <th>11561</th>\n",
              "      <th>11562</th>\n",
              "      <th>11563</th>\n",
              "      <th>11564</th>\n",
              "      <th>11565</th>\n",
              "      <th>11566</th>\n",
              "      <th>11567</th>\n",
              "      <th>11568</th>\n",
              "      <th>11569</th>\n",
              "      <th>11570</th>\n",
              "      <th>11571</th>\n",
              "      <th>11572</th>\n",
              "      <th>11573</th>\n",
              "      <th>11574</th>\n",
              "      <th>11575</th>\n",
              "      <th>11576</th>\n",
              "      <th>11577</th>\n",
              "      <th>11578</th>\n",
              "      <th>11579</th>\n",
              "      <th>11580</th>\n",
              "      <th>11581</th>\n",
              "      <th>11582</th>\n",
              "      <th>11583</th>\n",
              "      <th>11584</th>\n",
              "      <th>11585</th>\n",
              "      <th>11586</th>\n",
              "      <th>11587</th>\n",
              "      <th>11588</th>\n",
              "      <th>11589</th>\n",
              "      <th>11590</th>\n",
              "      <th>11591</th>\n",
              "      <th>11592</th>\n",
              "      <th>11593</th>\n",
              "      <th>11594</th>\n",
              "      <th>11595</th>\n",
              "      <th>11596</th>\n",
              "      <th>11597</th>\n",
              "    </tr>\n",
              "  </thead>\n",
              "  <tbody>\n",
              "    <tr>\n",
              "      <th>0</th>\n",
              "      <td>0.1625</td>\n",
              "      <td>0.3125</td>\n",
              "      <td>0.7750</td>\n",
              "      <td>0.1250</td>\n",
              "      <td>0.9625</td>\n",
              "      <td>1.1625</td>\n",
              "      <td>0.8625</td>\n",
              "      <td>0.9375</td>\n",
              "      <td>0.7500</td>\n",
              "      <td>0.300</td>\n",
              "      <td>0.4125</td>\n",
              "      <td>0.5375</td>\n",
              "      <td>0.4875</td>\n",
              "      <td>0.4875</td>\n",
              "      <td>0.2000</td>\n",
              "      <td>0.9000</td>\n",
              "      <td>1.1625</td>\n",
              "      <td>0.3500</td>\n",
              "      <td>0.3250</td>\n",
              "      <td>0.5125</td>\n",
              "      <td>1.0875</td>\n",
              "      <td>-0.0375</td>\n",
              "      <td>-0.3625</td>\n",
              "      <td>0.8125</td>\n",
              "      <td>0.2875</td>\n",
              "      <td>0.2125</td>\n",
              "      <td>2.0375</td>\n",
              "      <td>0.7125</td>\n",
              "      <td>0.3000</td>\n",
              "      <td>0.7375</td>\n",
              "      <td>0.7875</td>\n",
              "      <td>0.9375</td>\n",
              "      <td>0.4375</td>\n",
              "      <td>0.8000</td>\n",
              "      <td>1.0500</td>\n",
              "      <td>-0.0125</td>\n",
              "      <td>-0.1625</td>\n",
              "      <td>0.4750</td>\n",
              "      <td>0.5375</td>\n",
              "      <td>0.4875</td>\n",
              "      <td>...</td>\n",
              "      <td>NaN</td>\n",
              "      <td>NaN</td>\n",
              "      <td>NaN</td>\n",
              "      <td>NaN</td>\n",
              "      <td>NaN</td>\n",
              "      <td>NaN</td>\n",
              "      <td>NaN</td>\n",
              "      <td>NaN</td>\n",
              "      <td>NaN</td>\n",
              "      <td>NaN</td>\n",
              "      <td>NaN</td>\n",
              "      <td>NaN</td>\n",
              "      <td>NaN</td>\n",
              "      <td>NaN</td>\n",
              "      <td>NaN</td>\n",
              "      <td>NaN</td>\n",
              "      <td>NaN</td>\n",
              "      <td>NaN</td>\n",
              "      <td>NaN</td>\n",
              "      <td>NaN</td>\n",
              "      <td>NaN</td>\n",
              "      <td>NaN</td>\n",
              "      <td>NaN</td>\n",
              "      <td>NaN</td>\n",
              "      <td>NaN</td>\n",
              "      <td>NaN</td>\n",
              "      <td>NaN</td>\n",
              "      <td>NaN</td>\n",
              "      <td>NaN</td>\n",
              "      <td>NaN</td>\n",
              "      <td>NaN</td>\n",
              "      <td>NaN</td>\n",
              "      <td>0.0875</td>\n",
              "      <td>0.7250</td>\n",
              "      <td>1.5875</td>\n",
              "      <td>0.7000</td>\n",
              "      <td>-0.1000</td>\n",
              "      <td>0.6875</td>\n",
              "      <td>NaN</td>\n",
              "      <td>NaN</td>\n",
              "    </tr>\n",
              "    <tr>\n",
              "      <th>1</th>\n",
              "      <td>0.4500</td>\n",
              "      <td>0.6000</td>\n",
              "      <td>0.8125</td>\n",
              "      <td>0.1625</td>\n",
              "      <td>0.2000</td>\n",
              "      <td>0.6625</td>\n",
              "      <td>1.0125</td>\n",
              "      <td>1.5250</td>\n",
              "      <td>1.2250</td>\n",
              "      <td>0.050</td>\n",
              "      <td>0.7500</td>\n",
              "      <td>0.8125</td>\n",
              "      <td>1.2000</td>\n",
              "      <td>0.4875</td>\n",
              "      <td>1.0500</td>\n",
              "      <td>1.2000</td>\n",
              "      <td>1.2875</td>\n",
              "      <td>1.4625</td>\n",
              "      <td>-0.1000</td>\n",
              "      <td>-0.2125</td>\n",
              "      <td>0.8125</td>\n",
              "      <td>0.2375</td>\n",
              "      <td>0.5500</td>\n",
              "      <td>0.3250</td>\n",
              "      <td>0.1875</td>\n",
              "      <td>1.3375</td>\n",
              "      <td>0.6125</td>\n",
              "      <td>1.3750</td>\n",
              "      <td>0.4375</td>\n",
              "      <td>1.6250</td>\n",
              "      <td>1.0750</td>\n",
              "      <td>0.1750</td>\n",
              "      <td>-0.2250</td>\n",
              "      <td>1.2125</td>\n",
              "      <td>1.0875</td>\n",
              "      <td>0.2500</td>\n",
              "      <td>0.1625</td>\n",
              "      <td>0.4375</td>\n",
              "      <td>0.7375</td>\n",
              "      <td>1.1125</td>\n",
              "      <td>...</td>\n",
              "      <td>NaN</td>\n",
              "      <td>NaN</td>\n",
              "      <td>NaN</td>\n",
              "      <td>NaN</td>\n",
              "      <td>NaN</td>\n",
              "      <td>NaN</td>\n",
              "      <td>NaN</td>\n",
              "      <td>NaN</td>\n",
              "      <td>NaN</td>\n",
              "      <td>NaN</td>\n",
              "      <td>NaN</td>\n",
              "      <td>NaN</td>\n",
              "      <td>NaN</td>\n",
              "      <td>NaN</td>\n",
              "      <td>NaN</td>\n",
              "      <td>NaN</td>\n",
              "      <td>NaN</td>\n",
              "      <td>NaN</td>\n",
              "      <td>NaN</td>\n",
              "      <td>NaN</td>\n",
              "      <td>NaN</td>\n",
              "      <td>NaN</td>\n",
              "      <td>NaN</td>\n",
              "      <td>NaN</td>\n",
              "      <td>NaN</td>\n",
              "      <td>NaN</td>\n",
              "      <td>NaN</td>\n",
              "      <td>NaN</td>\n",
              "      <td>NaN</td>\n",
              "      <td>NaN</td>\n",
              "      <td>NaN</td>\n",
              "      <td>NaN</td>\n",
              "      <td>1.0000</td>\n",
              "      <td>0.1750</td>\n",
              "      <td>1.1250</td>\n",
              "      <td>1.0125</td>\n",
              "      <td>0.3125</td>\n",
              "      <td>0.4875</td>\n",
              "      <td>NaN</td>\n",
              "      <td>NaN</td>\n",
              "    </tr>\n",
              "    <tr>\n",
              "      <th>2</th>\n",
              "      <td>0.7375</td>\n",
              "      <td>0.6000</td>\n",
              "      <td>0.6250</td>\n",
              "      <td>0.8125</td>\n",
              "      <td>0.7875</td>\n",
              "      <td>0.8500</td>\n",
              "      <td>0.2875</td>\n",
              "      <td>0.5500</td>\n",
              "      <td>0.1125</td>\n",
              "      <td>0.325</td>\n",
              "      <td>0.7125</td>\n",
              "      <td>0.2750</td>\n",
              "      <td>0.1875</td>\n",
              "      <td>0.1875</td>\n",
              "      <td>1.3125</td>\n",
              "      <td>1.2750</td>\n",
              "      <td>0.3875</td>\n",
              "      <td>0.9375</td>\n",
              "      <td>1.1250</td>\n",
              "      <td>2.3750</td>\n",
              "      <td>1.2500</td>\n",
              "      <td>0.6750</td>\n",
              "      <td>-0.3875</td>\n",
              "      <td>0.2375</td>\n",
              "      <td>0.8375</td>\n",
              "      <td>0.8375</td>\n",
              "      <td>0.5625</td>\n",
              "      <td>0.1000</td>\n",
              "      <td>1.0750</td>\n",
              "      <td>0.2375</td>\n",
              "      <td>0.5625</td>\n",
              "      <td>0.2000</td>\n",
              "      <td>0.6375</td>\n",
              "      <td>0.8625</td>\n",
              "      <td>1.1375</td>\n",
              "      <td>0.3250</td>\n",
              "      <td>0.3625</td>\n",
              "      <td>0.9375</td>\n",
              "      <td>0.8000</td>\n",
              "      <td>0.4875</td>\n",
              "      <td>...</td>\n",
              "      <td>NaN</td>\n",
              "      <td>NaN</td>\n",
              "      <td>NaN</td>\n",
              "      <td>NaN</td>\n",
              "      <td>NaN</td>\n",
              "      <td>NaN</td>\n",
              "      <td>NaN</td>\n",
              "      <td>NaN</td>\n",
              "      <td>NaN</td>\n",
              "      <td>NaN</td>\n",
              "      <td>NaN</td>\n",
              "      <td>NaN</td>\n",
              "      <td>NaN</td>\n",
              "      <td>NaN</td>\n",
              "      <td>NaN</td>\n",
              "      <td>NaN</td>\n",
              "      <td>NaN</td>\n",
              "      <td>NaN</td>\n",
              "      <td>NaN</td>\n",
              "      <td>NaN</td>\n",
              "      <td>NaN</td>\n",
              "      <td>NaN</td>\n",
              "      <td>NaN</td>\n",
              "      <td>NaN</td>\n",
              "      <td>NaN</td>\n",
              "      <td>NaN</td>\n",
              "      <td>NaN</td>\n",
              "      <td>NaN</td>\n",
              "      <td>NaN</td>\n",
              "      <td>NaN</td>\n",
              "      <td>NaN</td>\n",
              "      <td>NaN</td>\n",
              "      <td>0.7000</td>\n",
              "      <td>0.6500</td>\n",
              "      <td>0.5750</td>\n",
              "      <td>0.6875</td>\n",
              "      <td>0.9125</td>\n",
              "      <td>0.0000</td>\n",
              "      <td>NaN</td>\n",
              "      <td>NaN</td>\n",
              "    </tr>\n",
              "    <tr>\n",
              "      <th>3</th>\n",
              "      <td>0.5000</td>\n",
              "      <td>0.6125</td>\n",
              "      <td>0.3750</td>\n",
              "      <td>0.7000</td>\n",
              "      <td>1.3625</td>\n",
              "      <td>0.9250</td>\n",
              "      <td>1.3375</td>\n",
              "      <td>1.0500</td>\n",
              "      <td>0.2125</td>\n",
              "      <td>0.300</td>\n",
              "      <td>0.7250</td>\n",
              "      <td>0.5875</td>\n",
              "      <td>0.1500</td>\n",
              "      <td>1.2750</td>\n",
              "      <td>1.3500</td>\n",
              "      <td>0.5750</td>\n",
              "      <td>0.8250</td>\n",
              "      <td>0.8125</td>\n",
              "      <td>0.0875</td>\n",
              "      <td>-0.0250</td>\n",
              "      <td>0.2375</td>\n",
              "      <td>0.6875</td>\n",
              "      <td>1.0125</td>\n",
              "      <td>0.3125</td>\n",
              "      <td>0.8250</td>\n",
              "      <td>0.0125</td>\n",
              "      <td>0.0375</td>\n",
              "      <td>0.4375</td>\n",
              "      <td>0.7000</td>\n",
              "      <td>0.2375</td>\n",
              "      <td>0.3125</td>\n",
              "      <td>1.1875</td>\n",
              "      <td>0.2750</td>\n",
              "      <td>1.0875</td>\n",
              "      <td>0.7250</td>\n",
              "      <td>0.3375</td>\n",
              "      <td>0.5500</td>\n",
              "      <td>0.9625</td>\n",
              "      <td>-0.3500</td>\n",
              "      <td>0.6125</td>\n",
              "      <td>...</td>\n",
              "      <td>NaN</td>\n",
              "      <td>NaN</td>\n",
              "      <td>NaN</td>\n",
              "      <td>NaN</td>\n",
              "      <td>NaN</td>\n",
              "      <td>NaN</td>\n",
              "      <td>NaN</td>\n",
              "      <td>NaN</td>\n",
              "      <td>NaN</td>\n",
              "      <td>NaN</td>\n",
              "      <td>NaN</td>\n",
              "      <td>NaN</td>\n",
              "      <td>NaN</td>\n",
              "      <td>NaN</td>\n",
              "      <td>NaN</td>\n",
              "      <td>NaN</td>\n",
              "      <td>NaN</td>\n",
              "      <td>NaN</td>\n",
              "      <td>NaN</td>\n",
              "      <td>NaN</td>\n",
              "      <td>NaN</td>\n",
              "      <td>NaN</td>\n",
              "      <td>NaN</td>\n",
              "      <td>NaN</td>\n",
              "      <td>NaN</td>\n",
              "      <td>NaN</td>\n",
              "      <td>NaN</td>\n",
              "      <td>NaN</td>\n",
              "      <td>NaN</td>\n",
              "      <td>NaN</td>\n",
              "      <td>NaN</td>\n",
              "      <td>NaN</td>\n",
              "      <td>0.1500</td>\n",
              "      <td>0.7875</td>\n",
              "      <td>0.0000</td>\n",
              "      <td>0.5125</td>\n",
              "      <td>0.4875</td>\n",
              "      <td>1.0750</td>\n",
              "      <td>NaN</td>\n",
              "      <td>NaN</td>\n",
              "    </tr>\n",
              "    <tr>\n",
              "      <th>4</th>\n",
              "      <td>0.5625</td>\n",
              "      <td>0.6750</td>\n",
              "      <td>1.5375</td>\n",
              "      <td>0.6750</td>\n",
              "      <td>0.9125</td>\n",
              "      <td>1.6125</td>\n",
              "      <td>0.6875</td>\n",
              "      <td>0.3750</td>\n",
              "      <td>0.5875</td>\n",
              "      <td>0.375</td>\n",
              "      <td>0.2625</td>\n",
              "      <td>0.6750</td>\n",
              "      <td>0.4000</td>\n",
              "      <td>0.5125</td>\n",
              "      <td>-0.1375</td>\n",
              "      <td>0.0875</td>\n",
              "      <td>1.0500</td>\n",
              "      <td>1.0000</td>\n",
              "      <td>-0.2625</td>\n",
              "      <td>1.0375</td>\n",
              "      <td>0.6000</td>\n",
              "      <td>0.1625</td>\n",
              "      <td>0.3750</td>\n",
              "      <td>0.1250</td>\n",
              "      <td>0.6500</td>\n",
              "      <td>0.4375</td>\n",
              "      <td>1.2000</td>\n",
              "      <td>1.0500</td>\n",
              "      <td>0.8375</td>\n",
              "      <td>1.4625</td>\n",
              "      <td>0.3250</td>\n",
              "      <td>0.0875</td>\n",
              "      <td>0.4125</td>\n",
              "      <td>-0.1000</td>\n",
              "      <td>0.2625</td>\n",
              "      <td>0.7875</td>\n",
              "      <td>0.0375</td>\n",
              "      <td>0.7000</td>\n",
              "      <td>0.9625</td>\n",
              "      <td>1.5750</td>\n",
              "      <td>...</td>\n",
              "      <td>NaN</td>\n",
              "      <td>NaN</td>\n",
              "      <td>NaN</td>\n",
              "      <td>NaN</td>\n",
              "      <td>NaN</td>\n",
              "      <td>NaN</td>\n",
              "      <td>NaN</td>\n",
              "      <td>NaN</td>\n",
              "      <td>NaN</td>\n",
              "      <td>NaN</td>\n",
              "      <td>NaN</td>\n",
              "      <td>NaN</td>\n",
              "      <td>NaN</td>\n",
              "      <td>NaN</td>\n",
              "      <td>NaN</td>\n",
              "      <td>NaN</td>\n",
              "      <td>NaN</td>\n",
              "      <td>NaN</td>\n",
              "      <td>NaN</td>\n",
              "      <td>NaN</td>\n",
              "      <td>NaN</td>\n",
              "      <td>NaN</td>\n",
              "      <td>NaN</td>\n",
              "      <td>NaN</td>\n",
              "      <td>NaN</td>\n",
              "      <td>NaN</td>\n",
              "      <td>NaN</td>\n",
              "      <td>NaN</td>\n",
              "      <td>NaN</td>\n",
              "      <td>NaN</td>\n",
              "      <td>NaN</td>\n",
              "      <td>NaN</td>\n",
              "      <td>0.0000</td>\n",
              "      <td>0.2250</td>\n",
              "      <td>0.9875</td>\n",
              "      <td>0.4500</td>\n",
              "      <td>0.4625</td>\n",
              "      <td>1.8750</td>\n",
              "      <td>NaN</td>\n",
              "      <td>NaN</td>\n",
              "    </tr>\n",
              "  </tbody>\n",
              "</table>\n",
              "<p>5 rows × 11598 columns</p>\n",
              "</div>\n",
              "      <button class=\"colab-df-convert\" onclick=\"convertToInteractive('df-43f845cc-774b-452a-8957-f056582812ab')\"\n",
              "              title=\"Convert this dataframe to an interactive table.\"\n",
              "              style=\"display:none;\">\n",
              "        \n",
              "  <svg xmlns=\"http://www.w3.org/2000/svg\" height=\"24px\"viewBox=\"0 0 24 24\"\n",
              "       width=\"24px\">\n",
              "    <path d=\"M0 0h24v24H0V0z\" fill=\"none\"/>\n",
              "    <path d=\"M18.56 5.44l.94 2.06.94-2.06 2.06-.94-2.06-.94-.94-2.06-.94 2.06-2.06.94zm-11 1L8.5 8.5l.94-2.06 2.06-.94-2.06-.94L8.5 2.5l-.94 2.06-2.06.94zm10 10l.94 2.06.94-2.06 2.06-.94-2.06-.94-.94-2.06-.94 2.06-2.06.94z\"/><path d=\"M17.41 7.96l-1.37-1.37c-.4-.4-.92-.59-1.43-.59-.52 0-1.04.2-1.43.59L10.3 9.45l-7.72 7.72c-.78.78-.78 2.05 0 2.83L4 21.41c.39.39.9.59 1.41.59.51 0 1.02-.2 1.41-.59l7.78-7.78 2.81-2.81c.8-.78.8-2.07 0-2.86zM5.41 20L4 18.59l7.72-7.72 1.47 1.35L5.41 20z\"/>\n",
              "  </svg>\n",
              "      </button>\n",
              "      \n",
              "  <style>\n",
              "    .colab-df-container {\n",
              "      display:flex;\n",
              "      flex-wrap:wrap;\n",
              "      gap: 12px;\n",
              "    }\n",
              "\n",
              "    .colab-df-convert {\n",
              "      background-color: #E8F0FE;\n",
              "      border: none;\n",
              "      border-radius: 50%;\n",
              "      cursor: pointer;\n",
              "      display: none;\n",
              "      fill: #1967D2;\n",
              "      height: 32px;\n",
              "      padding: 0 0 0 0;\n",
              "      width: 32px;\n",
              "    }\n",
              "\n",
              "    .colab-df-convert:hover {\n",
              "      background-color: #E2EBFA;\n",
              "      box-shadow: 0px 1px 2px rgba(60, 64, 67, 0.3), 0px 1px 3px 1px rgba(60, 64, 67, 0.15);\n",
              "      fill: #174EA6;\n",
              "    }\n",
              "\n",
              "    [theme=dark] .colab-df-convert {\n",
              "      background-color: #3B4455;\n",
              "      fill: #D2E3FC;\n",
              "    }\n",
              "\n",
              "    [theme=dark] .colab-df-convert:hover {\n",
              "      background-color: #434B5C;\n",
              "      box-shadow: 0px 1px 3px 1px rgba(0, 0, 0, 0.15);\n",
              "      filter: drop-shadow(0px 1px 2px rgba(0, 0, 0, 0.3));\n",
              "      fill: #FFFFFF;\n",
              "    }\n",
              "  </style>\n",
              "\n",
              "      <script>\n",
              "        const buttonEl =\n",
              "          document.querySelector('#df-43f845cc-774b-452a-8957-f056582812ab button.colab-df-convert');\n",
              "        buttonEl.style.display =\n",
              "          google.colab.kernel.accessAllowed ? 'block' : 'none';\n",
              "\n",
              "        async function convertToInteractive(key) {\n",
              "          const element = document.querySelector('#df-43f845cc-774b-452a-8957-f056582812ab');\n",
              "          const dataTable =\n",
              "            await google.colab.kernel.invokeFunction('convertToInteractive',\n",
              "                                                     [key], {});\n",
              "          if (!dataTable) return;\n",
              "\n",
              "          const docLinkHtml = 'Like what you see? Visit the ' +\n",
              "            '<a target=\"_blank\" href=https://colab.research.google.com/notebooks/data_table.ipynb>data table notebook</a>'\n",
              "            + ' to learn more about interactive tables.';\n",
              "          element.innerHTML = '';\n",
              "          dataTable['output_type'] = 'display_data';\n",
              "          await google.colab.output.renderOutput(dataTable, element);\n",
              "          const docLink = document.createElement('div');\n",
              "          docLink.innerHTML = docLinkHtml;\n",
              "          element.appendChild(docLink);\n",
              "        }\n",
              "      </script>\n",
              "    </div>\n",
              "  </div>\n",
              "  "
            ],
            "text/plain": [
              "    0       1       2       3       4      ...   11593   11594   11595  11596  11597\n",
              "0  0.1625  0.3125  0.7750  0.1250  0.9625  ...  0.7000 -0.1000  0.6875    NaN    NaN\n",
              "1  0.4500  0.6000  0.8125  0.1625  0.2000  ...  1.0125  0.3125  0.4875    NaN    NaN\n",
              "2  0.7375  0.6000  0.6250  0.8125  0.7875  ...  0.6875  0.9125  0.0000    NaN    NaN\n",
              "3  0.5000  0.6125  0.3750  0.7000  1.3625  ...  0.5125  0.4875  1.0750    NaN    NaN\n",
              "4  0.5625  0.6750  1.5375  0.6750  0.9125  ...  0.4500  0.4625  1.8750    NaN    NaN\n",
              "\n",
              "[5 rows x 11598 columns]"
            ]
          },
          "metadata": {},
          "execution_count": 4
        }
      ]
    },
    {
      "cell_type": "code",
      "source": [
        "green10.shape"
      ],
      "metadata": {
        "colab": {
          "base_uri": "https://localhost:8080/"
        },
        "id": "G9EEH9wtL9vN",
        "outputId": "a6674f3c-7068-433c-90b2-69534e08cb43"
      },
      "execution_count": 6,
      "outputs": [
        {
          "output_type": "execute_result",
          "data": {
            "text/plain": [
              "(144, 11598)"
            ]
          },
          "metadata": {},
          "execution_count": 6
        }
      ]
    },
    {
      "cell_type": "markdown",
      "source": [
        "## EDA\n",
        "\n",
        "Let's start by looking at a sample cell with MODIP=10. First, its green flourescence exhibits a bust around t=120"
      ],
      "metadata": {
        "id": "bQWi-hcRfmYW"
      }
    },
    {
      "cell_type": "code",
      "source": [
        "import matplotlib.pyplot as plt\n",
        "\n",
        "plt.plot(green10[0], color='green')"
      ],
      "metadata": {
        "colab": {
          "base_uri": "https://localhost:8080/",
          "height": 287
        },
        "id": "vObQFZm5NNL2",
        "outputId": "8501b483-03c2-44f0-89f7-b85d3514511e"
      },
      "execution_count": 55,
      "outputs": [
        {
          "output_type": "execute_result",
          "data": {
            "text/plain": [
              "[<matplotlib.lines.Line2D at 0x7fea38105650>]"
            ]
          },
          "metadata": {},
          "execution_count": 55
        },
        {
          "output_type": "display_data",
          "data": {
            "image/png": "[encoded data removed]",
            "text/plain": [
              "<Figure size 432x288 with 1 Axes>"
            ]
          },
          "metadata": {}
        }
      ]
    },
    {
      "cell_type": "markdown",
      "source": [
        "Its 'derivative' shows the bust more clearly"
      ],
      "metadata": {
        "id": "oZ42Abxjf-Ut"
      }
    },
    {
      "cell_type": "code",
      "source": [
        "plt.plot(green10[0].diff(), color='green')"
      ],
      "metadata": {
        "colab": {
          "base_uri": "https://localhost:8080/",
          "height": 287
        },
        "id": "17vGnGIjNeCU",
        "outputId": "d589fbd5-b365-4392-aaee-effcaa005f8a"
      },
      "execution_count": 64,
      "outputs": [
        {
          "output_type": "execute_result",
          "data": {
            "text/plain": [
              "[<matplotlib.lines.Line2D at 0x7fea2721c0d0>]"
            ]
          },
          "metadata": {},
          "execution_count": 64
        },
        {
          "output_type": "display_data",
          "data": {
            "image/png": "[encoded data removed]",
            "text/plain": [
              "<Figure size 432x288 with 1 Axes>"
            ]
          },
          "metadata": {}
        }
      ]
    },
    {
      "cell_type": "markdown",
      "source": [
        "Let's import the red flourescence now"
      ],
      "metadata": {
        "id": "hpgxPacJgIG7"
      }
    },
    {
      "cell_type": "code",
      "source": [
        "path2 = '/content/drive/MyDrive/data/10R.csv'\n",
        "red10 = pd.read_csv(path2, header=None)\n",
        "red10.head()"
      ],
      "metadata": {
        "colab": {
          "base_uri": "https://localhost:8080/",
          "height": 299
        },
        "id": "yrcU2YcRNxj4",
        "outputId": "6f21d9d3-3371-498e-c208-7aa5aec76139"
      },
      "execution_count": 10,
      "outputs": [
        {
          "output_type": "execute_result",
          "data": {
            "text/html": [
              "\n",
              "  <div id=\"df-8e62a62d-43ab-4a6a-8216-09146b903408\">\n",
              "    <div class=\"colab-df-container\">\n",
              "      <div>\n",
              "<style scoped>\n",
              "    .dataframe tbody tr th:only-of-type {\n",
              "        vertical-align: middle;\n",
              "    }\n",
              "\n",
              "    .dataframe tbody tr th {\n",
              "        vertical-align: top;\n",
              "    }\n",
              "\n",
              "    .dataframe thead th {\n",
              "        text-align: right;\n",
              "    }\n",
              "</style>\n",
              "<table border=\"1\" class=\"dataframe\">\n",
              "  <thead>\n",
              "    <tr style=\"text-align: right;\">\n",
              "      <th></th>\n",
              "      <th>0</th>\n",
              "      <th>1</th>\n",
              "      <th>2</th>\n",
              "      <th>3</th>\n",
              "      <th>4</th>\n",
              "      <th>5</th>\n",
              "      <th>6</th>\n",
              "      <th>7</th>\n",
              "      <th>8</th>\n",
              "      <th>9</th>\n",
              "      <th>10</th>\n",
              "      <th>11</th>\n",
              "      <th>12</th>\n",
              "      <th>13</th>\n",
              "      <th>14</th>\n",
              "      <th>15</th>\n",
              "      <th>16</th>\n",
              "      <th>17</th>\n",
              "      <th>18</th>\n",
              "      <th>19</th>\n",
              "      <th>20</th>\n",
              "      <th>21</th>\n",
              "      <th>22</th>\n",
              "      <th>23</th>\n",
              "      <th>24</th>\n",
              "      <th>25</th>\n",
              "      <th>26</th>\n",
              "      <th>27</th>\n",
              "      <th>28</th>\n",
              "      <th>29</th>\n",
              "      <th>30</th>\n",
              "      <th>31</th>\n",
              "      <th>32</th>\n",
              "      <th>33</th>\n",
              "      <th>34</th>\n",
              "      <th>35</th>\n",
              "      <th>36</th>\n",
              "      <th>37</th>\n",
              "      <th>38</th>\n",
              "      <th>39</th>\n",
              "      <th>...</th>\n",
              "      <th>11558</th>\n",
              "      <th>11559</th>\n",
              "      <th>11560</th>\n",
              "      <th>11561</th>\n",
              "      <th>11562</th>\n",
              "      <th>11563</th>\n",
              "      <th>11564</th>\n",
              "      <th>11565</th>\n",
              "      <th>11566</th>\n",
              "      <th>11567</th>\n",
              "      <th>11568</th>\n",
              "      <th>11569</th>\n",
              "      <th>11570</th>\n",
              "      <th>11571</th>\n",
              "      <th>11572</th>\n",
              "      <th>11573</th>\n",
              "      <th>11574</th>\n",
              "      <th>11575</th>\n",
              "      <th>11576</th>\n",
              "      <th>11577</th>\n",
              "      <th>11578</th>\n",
              "      <th>11579</th>\n",
              "      <th>11580</th>\n",
              "      <th>11581</th>\n",
              "      <th>11582</th>\n",
              "      <th>11583</th>\n",
              "      <th>11584</th>\n",
              "      <th>11585</th>\n",
              "      <th>11586</th>\n",
              "      <th>11587</th>\n",
              "      <th>11588</th>\n",
              "      <th>11589</th>\n",
              "      <th>11590</th>\n",
              "      <th>11591</th>\n",
              "      <th>11592</th>\n",
              "      <th>11593</th>\n",
              "      <th>11594</th>\n",
              "      <th>11595</th>\n",
              "      <th>11596</th>\n",
              "      <th>11597</th>\n",
              "    </tr>\n",
              "  </thead>\n",
              "  <tbody>\n",
              "    <tr>\n",
              "      <th>0</th>\n",
              "      <td>0.675</td>\n",
              "      <td>0.0000</td>\n",
              "      <td>-0.1125</td>\n",
              "      <td>0.0500</td>\n",
              "      <td>0.6625</td>\n",
              "      <td>0.1500</td>\n",
              "      <td>0.0625</td>\n",
              "      <td>0.4500</td>\n",
              "      <td>-0.025</td>\n",
              "      <td>-0.0250</td>\n",
              "      <td>0.3375</td>\n",
              "      <td>0.4625</td>\n",
              "      <td>0.0500</td>\n",
              "      <td>1.0250</td>\n",
              "      <td>0.3875</td>\n",
              "      <td>-0.1625</td>\n",
              "      <td>0.6500</td>\n",
              "      <td>0.4750</td>\n",
              "      <td>0.5875</td>\n",
              "      <td>0.1875</td>\n",
              "      <td>0.3375</td>\n",
              "      <td>0.3500</td>\n",
              "      <td>0.3250</td>\n",
              "      <td>0.4250</td>\n",
              "      <td>0.1375</td>\n",
              "      <td>0.5000</td>\n",
              "      <td>0.6375</td>\n",
              "      <td>0.5625</td>\n",
              "      <td>1.0875</td>\n",
              "      <td>0.3625</td>\n",
              "      <td>0.9875</td>\n",
              "      <td>0.2000</td>\n",
              "      <td>-0.4000</td>\n",
              "      <td>0.3875</td>\n",
              "      <td>1.1500</td>\n",
              "      <td>0.3500</td>\n",
              "      <td>0.4375</td>\n",
              "      <td>0.4500</td>\n",
              "      <td>-0.1250</td>\n",
              "      <td>0.3750</td>\n",
              "      <td>...</td>\n",
              "      <td>NaN</td>\n",
              "      <td>NaN</td>\n",
              "      <td>NaN</td>\n",
              "      <td>NaN</td>\n",
              "      <td>NaN</td>\n",
              "      <td>NaN</td>\n",
              "      <td>NaN</td>\n",
              "      <td>NaN</td>\n",
              "      <td>NaN</td>\n",
              "      <td>NaN</td>\n",
              "      <td>NaN</td>\n",
              "      <td>NaN</td>\n",
              "      <td>NaN</td>\n",
              "      <td>NaN</td>\n",
              "      <td>NaN</td>\n",
              "      <td>NaN</td>\n",
              "      <td>NaN</td>\n",
              "      <td>NaN</td>\n",
              "      <td>NaN</td>\n",
              "      <td>NaN</td>\n",
              "      <td>NaN</td>\n",
              "      <td>NaN</td>\n",
              "      <td>NaN</td>\n",
              "      <td>NaN</td>\n",
              "      <td>NaN</td>\n",
              "      <td>NaN</td>\n",
              "      <td>NaN</td>\n",
              "      <td>NaN</td>\n",
              "      <td>NaN</td>\n",
              "      <td>NaN</td>\n",
              "      <td>NaN</td>\n",
              "      <td>NaN</td>\n",
              "      <td>0.5625</td>\n",
              "      <td>-0.0875</td>\n",
              "      <td>1.4625</td>\n",
              "      <td>0.3375</td>\n",
              "      <td>0.9500</td>\n",
              "      <td>0.7750</td>\n",
              "      <td>NaN</td>\n",
              "      <td>NaN</td>\n",
              "    </tr>\n",
              "    <tr>\n",
              "      <th>1</th>\n",
              "      <td>0.000</td>\n",
              "      <td>0.5875</td>\n",
              "      <td>0.3625</td>\n",
              "      <td>0.9875</td>\n",
              "      <td>0.5750</td>\n",
              "      <td>-0.2500</td>\n",
              "      <td>0.2875</td>\n",
              "      <td>-0.2750</td>\n",
              "      <td>1.325</td>\n",
              "      <td>1.0625</td>\n",
              "      <td>-0.1875</td>\n",
              "      <td>-0.1000</td>\n",
              "      <td>0.6875</td>\n",
              "      <td>0.3125</td>\n",
              "      <td>0.0375</td>\n",
              "      <td>0.5750</td>\n",
              "      <td>0.2750</td>\n",
              "      <td>-0.2250</td>\n",
              "      <td>-0.2750</td>\n",
              "      <td>0.6500</td>\n",
              "      <td>0.8750</td>\n",
              "      <td>0.1750</td>\n",
              "      <td>0.1750</td>\n",
              "      <td>1.1875</td>\n",
              "      <td>-0.2375</td>\n",
              "      <td>0.0625</td>\n",
              "      <td>0.6250</td>\n",
              "      <td>0.4375</td>\n",
              "      <td>0.1125</td>\n",
              "      <td>0.7625</td>\n",
              "      <td>0.8125</td>\n",
              "      <td>0.7375</td>\n",
              "      <td>1.3375</td>\n",
              "      <td>0.1875</td>\n",
              "      <td>0.1375</td>\n",
              "      <td>0.4000</td>\n",
              "      <td>0.6375</td>\n",
              "      <td>1.4000</td>\n",
              "      <td>0.7750</td>\n",
              "      <td>0.1000</td>\n",
              "      <td>...</td>\n",
              "      <td>NaN</td>\n",
              "      <td>NaN</td>\n",
              "      <td>NaN</td>\n",
              "      <td>NaN</td>\n",
              "      <td>NaN</td>\n",
              "      <td>NaN</td>\n",
              "      <td>NaN</td>\n",
              "      <td>NaN</td>\n",
              "      <td>NaN</td>\n",
              "      <td>NaN</td>\n",
              "      <td>NaN</td>\n",
              "      <td>NaN</td>\n",
              "      <td>NaN</td>\n",
              "      <td>NaN</td>\n",
              "      <td>NaN</td>\n",
              "      <td>NaN</td>\n",
              "      <td>NaN</td>\n",
              "      <td>NaN</td>\n",
              "      <td>NaN</td>\n",
              "      <td>NaN</td>\n",
              "      <td>NaN</td>\n",
              "      <td>NaN</td>\n",
              "      <td>NaN</td>\n",
              "      <td>NaN</td>\n",
              "      <td>NaN</td>\n",
              "      <td>NaN</td>\n",
              "      <td>NaN</td>\n",
              "      <td>NaN</td>\n",
              "      <td>NaN</td>\n",
              "      <td>NaN</td>\n",
              "      <td>NaN</td>\n",
              "      <td>NaN</td>\n",
              "      <td>-0.0500</td>\n",
              "      <td>0.7375</td>\n",
              "      <td>0.1375</td>\n",
              "      <td>0.3875</td>\n",
              "      <td>0.6000</td>\n",
              "      <td>0.2125</td>\n",
              "      <td>NaN</td>\n",
              "      <td>NaN</td>\n",
              "    </tr>\n",
              "    <tr>\n",
              "      <th>2</th>\n",
              "      <td>0.700</td>\n",
              "      <td>0.6000</td>\n",
              "      <td>0.4500</td>\n",
              "      <td>0.1500</td>\n",
              "      <td>0.4500</td>\n",
              "      <td>0.3375</td>\n",
              "      <td>0.7500</td>\n",
              "      <td>0.6125</td>\n",
              "      <td>0.575</td>\n",
              "      <td>-0.0250</td>\n",
              "      <td>-0.1750</td>\n",
              "      <td>-0.1875</td>\n",
              "      <td>-0.1125</td>\n",
              "      <td>0.1375</td>\n",
              "      <td>0.3000</td>\n",
              "      <td>-0.2000</td>\n",
              "      <td>1.0375</td>\n",
              "      <td>0.7375</td>\n",
              "      <td>0.4000</td>\n",
              "      <td>0.5125</td>\n",
              "      <td>1.5000</td>\n",
              "      <td>0.0375</td>\n",
              "      <td>0.5375</td>\n",
              "      <td>1.2125</td>\n",
              "      <td>0.1875</td>\n",
              "      <td>0.2875</td>\n",
              "      <td>0.3375</td>\n",
              "      <td>0.9625</td>\n",
              "      <td>0.5250</td>\n",
              "      <td>1.6000</td>\n",
              "      <td>0.1250</td>\n",
              "      <td>0.9250</td>\n",
              "      <td>0.3625</td>\n",
              "      <td>0.6000</td>\n",
              "      <td>1.1250</td>\n",
              "      <td>1.1625</td>\n",
              "      <td>0.4625</td>\n",
              "      <td>0.6000</td>\n",
              "      <td>0.7125</td>\n",
              "      <td>0.9125</td>\n",
              "      <td>...</td>\n",
              "      <td>NaN</td>\n",
              "      <td>NaN</td>\n",
              "      <td>NaN</td>\n",
              "      <td>NaN</td>\n",
              "      <td>NaN</td>\n",
              "      <td>NaN</td>\n",
              "      <td>NaN</td>\n",
              "      <td>NaN</td>\n",
              "      <td>NaN</td>\n",
              "      <td>NaN</td>\n",
              "      <td>NaN</td>\n",
              "      <td>NaN</td>\n",
              "      <td>NaN</td>\n",
              "      <td>NaN</td>\n",
              "      <td>NaN</td>\n",
              "      <td>NaN</td>\n",
              "      <td>NaN</td>\n",
              "      <td>NaN</td>\n",
              "      <td>NaN</td>\n",
              "      <td>NaN</td>\n",
              "      <td>NaN</td>\n",
              "      <td>NaN</td>\n",
              "      <td>NaN</td>\n",
              "      <td>NaN</td>\n",
              "      <td>NaN</td>\n",
              "      <td>NaN</td>\n",
              "      <td>NaN</td>\n",
              "      <td>NaN</td>\n",
              "      <td>NaN</td>\n",
              "      <td>NaN</td>\n",
              "      <td>NaN</td>\n",
              "      <td>NaN</td>\n",
              "      <td>0.3750</td>\n",
              "      <td>0.8625</td>\n",
              "      <td>0.8125</td>\n",
              "      <td>0.2500</td>\n",
              "      <td>0.3125</td>\n",
              "      <td>0.7375</td>\n",
              "      <td>NaN</td>\n",
              "      <td>NaN</td>\n",
              "    </tr>\n",
              "    <tr>\n",
              "      <th>3</th>\n",
              "      <td>1.175</td>\n",
              "      <td>0.2000</td>\n",
              "      <td>0.1375</td>\n",
              "      <td>0.6875</td>\n",
              "      <td>0.6625</td>\n",
              "      <td>-0.2375</td>\n",
              "      <td>0.1750</td>\n",
              "      <td>0.2750</td>\n",
              "      <td>0.400</td>\n",
              "      <td>0.5250</td>\n",
              "      <td>0.5000</td>\n",
              "      <td>0.2625</td>\n",
              "      <td>1.5125</td>\n",
              "      <td>0.2500</td>\n",
              "      <td>0.2125</td>\n",
              "      <td>0.3250</td>\n",
              "      <td>0.3750</td>\n",
              "      <td>0.9500</td>\n",
              "      <td>0.1875</td>\n",
              "      <td>0.5750</td>\n",
              "      <td>0.5875</td>\n",
              "      <td>0.1500</td>\n",
              "      <td>1.0375</td>\n",
              "      <td>-0.0125</td>\n",
              "      <td>0.5375</td>\n",
              "      <td>0.4000</td>\n",
              "      <td>0.2250</td>\n",
              "      <td>1.0250</td>\n",
              "      <td>0.1250</td>\n",
              "      <td>1.0000</td>\n",
              "      <td>0.8250</td>\n",
              "      <td>0.5250</td>\n",
              "      <td>0.6250</td>\n",
              "      <td>-0.2125</td>\n",
              "      <td>0.9500</td>\n",
              "      <td>-0.0375</td>\n",
              "      <td>0.8625</td>\n",
              "      <td>0.1250</td>\n",
              "      <td>0.0875</td>\n",
              "      <td>0.5125</td>\n",
              "      <td>...</td>\n",
              "      <td>NaN</td>\n",
              "      <td>NaN</td>\n",
              "      <td>NaN</td>\n",
              "      <td>NaN</td>\n",
              "      <td>NaN</td>\n",
              "      <td>NaN</td>\n",
              "      <td>NaN</td>\n",
              "      <td>NaN</td>\n",
              "      <td>NaN</td>\n",
              "      <td>NaN</td>\n",
              "      <td>NaN</td>\n",
              "      <td>NaN</td>\n",
              "      <td>NaN</td>\n",
              "      <td>NaN</td>\n",
              "      <td>NaN</td>\n",
              "      <td>NaN</td>\n",
              "      <td>NaN</td>\n",
              "      <td>NaN</td>\n",
              "      <td>NaN</td>\n",
              "      <td>NaN</td>\n",
              "      <td>NaN</td>\n",
              "      <td>NaN</td>\n",
              "      <td>NaN</td>\n",
              "      <td>NaN</td>\n",
              "      <td>NaN</td>\n",
              "      <td>NaN</td>\n",
              "      <td>NaN</td>\n",
              "      <td>NaN</td>\n",
              "      <td>NaN</td>\n",
              "      <td>NaN</td>\n",
              "      <td>NaN</td>\n",
              "      <td>NaN</td>\n",
              "      <td>0.0375</td>\n",
              "      <td>0.3875</td>\n",
              "      <td>-0.2625</td>\n",
              "      <td>0.2250</td>\n",
              "      <td>0.9000</td>\n",
              "      <td>0.1625</td>\n",
              "      <td>NaN</td>\n",
              "      <td>NaN</td>\n",
              "    </tr>\n",
              "    <tr>\n",
              "      <th>4</th>\n",
              "      <td>0.325</td>\n",
              "      <td>0.0750</td>\n",
              "      <td>0.2375</td>\n",
              "      <td>0.6125</td>\n",
              "      <td>0.3250</td>\n",
              "      <td>0.8000</td>\n",
              "      <td>-0.2000</td>\n",
              "      <td>-0.3750</td>\n",
              "      <td>0.325</td>\n",
              "      <td>0.9500</td>\n",
              "      <td>-0.2125</td>\n",
              "      <td>1.1875</td>\n",
              "      <td>0.5500</td>\n",
              "      <td>1.1125</td>\n",
              "      <td>0.2125</td>\n",
              "      <td>1.3500</td>\n",
              "      <td>0.1875</td>\n",
              "      <td>0.7750</td>\n",
              "      <td>-0.2000</td>\n",
              "      <td>0.3125</td>\n",
              "      <td>0.0750</td>\n",
              "      <td>0.6000</td>\n",
              "      <td>-0.0500</td>\n",
              "      <td>0.6125</td>\n",
              "      <td>0.6250</td>\n",
              "      <td>0.2250</td>\n",
              "      <td>1.0125</td>\n",
              "      <td>0.3250</td>\n",
              "      <td>0.7750</td>\n",
              "      <td>0.3250</td>\n",
              "      <td>0.9875</td>\n",
              "      <td>0.4000</td>\n",
              "      <td>0.3375</td>\n",
              "      <td>0.0000</td>\n",
              "      <td>0.7000</td>\n",
              "      <td>0.3750</td>\n",
              "      <td>0.1375</td>\n",
              "      <td>0.3875</td>\n",
              "      <td>0.4000</td>\n",
              "      <td>0.4250</td>\n",
              "      <td>...</td>\n",
              "      <td>NaN</td>\n",
              "      <td>NaN</td>\n",
              "      <td>NaN</td>\n",
              "      <td>NaN</td>\n",
              "      <td>NaN</td>\n",
              "      <td>NaN</td>\n",
              "      <td>NaN</td>\n",
              "      <td>NaN</td>\n",
              "      <td>NaN</td>\n",
              "      <td>NaN</td>\n",
              "      <td>NaN</td>\n",
              "      <td>NaN</td>\n",
              "      <td>NaN</td>\n",
              "      <td>NaN</td>\n",
              "      <td>NaN</td>\n",
              "      <td>NaN</td>\n",
              "      <td>NaN</td>\n",
              "      <td>NaN</td>\n",
              "      <td>NaN</td>\n",
              "      <td>NaN</td>\n",
              "      <td>NaN</td>\n",
              "      <td>NaN</td>\n",
              "      <td>NaN</td>\n",
              "      <td>NaN</td>\n",
              "      <td>NaN</td>\n",
              "      <td>NaN</td>\n",
              "      <td>NaN</td>\n",
              "      <td>NaN</td>\n",
              "      <td>NaN</td>\n",
              "      <td>NaN</td>\n",
              "      <td>NaN</td>\n",
              "      <td>NaN</td>\n",
              "      <td>-0.0250</td>\n",
              "      <td>0.0125</td>\n",
              "      <td>0.7375</td>\n",
              "      <td>0.5125</td>\n",
              "      <td>0.4875</td>\n",
              "      <td>0.6125</td>\n",
              "      <td>NaN</td>\n",
              "      <td>NaN</td>\n",
              "    </tr>\n",
              "  </tbody>\n",
              "</table>\n",
              "<p>5 rows × 11598 columns</p>\n",
              "</div>\n",
              "      <button class=\"colab-df-convert\" onclick=\"convertToInteractive('df-8e62a62d-43ab-4a6a-8216-09146b903408')\"\n",
              "              title=\"Convert this dataframe to an interactive table.\"\n",
              "              style=\"display:none;\">\n",
              "        \n",
              "  <svg xmlns=\"http://www.w3.org/2000/svg\" height=\"24px\"viewBox=\"0 0 24 24\"\n",
              "       width=\"24px\">\n",
              "    <path d=\"M0 0h24v24H0V0z\" fill=\"none\"/>\n",
              "    <path d=\"M18.56 5.44l.94 2.06.94-2.06 2.06-.94-2.06-.94-.94-2.06-.94 2.06-2.06.94zm-11 1L8.5 8.5l.94-2.06 2.06-.94-2.06-.94L8.5 2.5l-.94 2.06-2.06.94zm10 10l.94 2.06.94-2.06 2.06-.94-2.06-.94-.94-2.06-.94 2.06-2.06.94z\"/><path d=\"M17.41 7.96l-1.37-1.37c-.4-.4-.92-.59-1.43-.59-.52 0-1.04.2-1.43.59L10.3 9.45l-7.72 7.72c-.78.78-.78 2.05 0 2.83L4 21.41c.39.39.9.59 1.41.59.51 0 1.02-.2 1.41-.59l7.78-7.78 2.81-2.81c.8-.78.8-2.07 0-2.86zM5.41 20L4 18.59l7.72-7.72 1.47 1.35L5.41 20z\"/>\n",
              "  </svg>\n",
              "      </button>\n",
              "      \n",
              "  <style>\n",
              "    .colab-df-container {\n",
              "      display:flex;\n",
              "      flex-wrap:wrap;\n",
              "      gap: 12px;\n",
              "    }\n",
              "\n",
              "    .colab-df-convert {\n",
              "      background-color: #E8F0FE;\n",
              "      border: none;\n",
              "      border-radius: 50%;\n",
              "      cursor: pointer;\n",
              "      display: none;\n",
              "      fill: #1967D2;\n",
              "      height: 32px;\n",
              "      padding: 0 0 0 0;\n",
              "      width: 32px;\n",
              "    }\n",
              "\n",
              "    .colab-df-convert:hover {\n",
              "      background-color: #E2EBFA;\n",
              "      box-shadow: 0px 1px 2px rgba(60, 64, 67, 0.3), 0px 1px 3px 1px rgba(60, 64, 67, 0.15);\n",
              "      fill: #174EA6;\n",
              "    }\n",
              "\n",
              "    [theme=dark] .colab-df-convert {\n",
              "      background-color: #3B4455;\n",
              "      fill: #D2E3FC;\n",
              "    }\n",
              "\n",
              "    [theme=dark] .colab-df-convert:hover {\n",
              "      background-color: #434B5C;\n",
              "      box-shadow: 0px 1px 3px 1px rgba(0, 0, 0, 0.15);\n",
              "      filter: drop-shadow(0px 1px 2px rgba(0, 0, 0, 0.3));\n",
              "      fill: #FFFFFF;\n",
              "    }\n",
              "  </style>\n",
              "\n",
              "      <script>\n",
              "        const buttonEl =\n",
              "          document.querySelector('#df-8e62a62d-43ab-4a6a-8216-09146b903408 button.colab-df-convert');\n",
              "        buttonEl.style.display =\n",
              "          google.colab.kernel.accessAllowed ? 'block' : 'none';\n",
              "\n",
              "        async function convertToInteractive(key) {\n",
              "          const element = document.querySelector('#df-8e62a62d-43ab-4a6a-8216-09146b903408');\n",
              "          const dataTable =\n",
              "            await google.colab.kernel.invokeFunction('convertToInteractive',\n",
              "                                                     [key], {});\n",
              "          if (!dataTable) return;\n",
              "\n",
              "          const docLinkHtml = 'Like what you see? Visit the ' +\n",
              "            '<a target=\"_blank\" href=https://colab.research.google.com/notebooks/data_table.ipynb>data table notebook</a>'\n",
              "            + ' to learn more about interactive tables.';\n",
              "          element.innerHTML = '';\n",
              "          dataTable['output_type'] = 'display_data';\n",
              "          await google.colab.output.renderOutput(dataTable, element);\n",
              "          const docLink = document.createElement('div');\n",
              "          docLink.innerHTML = docLinkHtml;\n",
              "          element.appendChild(docLink);\n",
              "        }\n",
              "      </script>\n",
              "    </div>\n",
              "  </div>\n",
              "  "
            ],
            "text/plain": [
              "   0       1       2       3       4      ...   11593   11594   11595  11596  11597\n",
              "0  0.675  0.0000 -0.1125  0.0500  0.6625  ...  0.3375  0.9500  0.7750    NaN    NaN\n",
              "1  0.000  0.5875  0.3625  0.9875  0.5750  ...  0.3875  0.6000  0.2125    NaN    NaN\n",
              "2  0.700  0.6000  0.4500  0.1500  0.4500  ...  0.2500  0.3125  0.7375    NaN    NaN\n",
              "3  1.175  0.2000  0.1375  0.6875  0.6625  ...  0.2250  0.9000  0.1625    NaN    NaN\n",
              "4  0.325  0.0750  0.2375  0.6125  0.3250  ...  0.5125  0.4875  0.6125    NaN    NaN\n",
              "\n",
              "[5 rows x 11598 columns]"
            ]
          },
          "metadata": {},
          "execution_count": 10
        }
      ]
    },
    {
      "cell_type": "code",
      "source": [
        "red10.shape"
      ],
      "metadata": {
        "colab": {
          "base_uri": "https://localhost:8080/"
        },
        "id": "mRUWuxOBOXVc",
        "outputId": "ebde43f7-8026-4ffd-924f-dfb0b655fb05"
      },
      "execution_count": 11,
      "outputs": [
        {
          "output_type": "execute_result",
          "data": {
            "text/plain": [
              "(144, 11598)"
            ]
          },
          "metadata": {},
          "execution_count": 11
        }
      ]
    },
    {
      "cell_type": "markdown",
      "source": [
        "When we plot both flourescence, we see a problem. The red flourescence never 'took off' while the green one did. It's unlikely that the dynamics of both series are related. "
      ],
      "metadata": {
        "id": "_cVxTKnxgbh9"
      }
    },
    {
      "cell_type": "code",
      "source": [
        "plt.plot(green10[0], color='green')\n",
        "plt.plot(red10[0], color='red')"
      ],
      "metadata": {
        "colab": {
          "base_uri": "https://localhost:8080/",
          "height": 287
        },
        "id": "KW9m-3yxOchO",
        "outputId": "961bce38-35fe-4294-e95c-710cfa47ae69"
      },
      "execution_count": 56,
      "outputs": [
        {
          "output_type": "execute_result",
          "data": {
            "text/plain": [
              "[<matplotlib.lines.Line2D at 0x7fea273e5e10>]"
            ]
          },
          "metadata": {},
          "execution_count": 56
        },
        {
          "output_type": "display_data",
          "data": {
            "image/png": "[encoded data removed]",
            "text/plain": [
              "<Figure size 432x288 with 1 Axes>"
            ]
          },
          "metadata": {}
        }
      ]
    },
    {
      "cell_type": "markdown",
      "source": [
        "So, let's pick a different cell. Cell #10, to be precise"
      ],
      "metadata": {
        "id": "68Doghlggsrc"
      }
    },
    {
      "cell_type": "code",
      "source": [
        "plt.plot(green10[10], color='green')\n",
        "plt.plot(red10[10], color='red')"
      ],
      "metadata": {
        "colab": {
          "base_uri": "https://localhost:8080/",
          "height": 287
        },
        "id": "FJNCjM3EO9jb",
        "outputId": "454bdba5-4d51-4c43-9952-8b7f84102be3"
      },
      "execution_count": 57,
      "outputs": [
        {
          "output_type": "execute_result",
          "data": {
            "text/plain": [
              "[<matplotlib.lines.Line2D at 0x7fea272f3f10>]"
            ]
          },
          "metadata": {},
          "execution_count": 57
        },
        {
          "output_type": "display_data",
          "data": {
            "image/png": "[encoded data removed]",
            "text/plain": [
              "<Figure size 432x288 with 1 Axes>"
            ]
          },
          "metadata": {}
        }
      ]
    },
    {
      "cell_type": "markdown",
      "source": [
        "The two series seem more related to each other. \n",
        "\n",
        "Let us focus on the period of time before the burst, since that burst is probably difficult to model:"
      ],
      "metadata": {
        "id": "Q-L_atoQg3OJ"
      }
    },
    {
      "cell_type": "code",
      "source": [
        "ts_g_10 = green10[10].iloc[:110]\n",
        "ts_r_10 = red10[10].iloc[:110]\n",
        "\n",
        "plt.plot(ts_g_10, color='green')\n",
        "plt.plot(ts_r_10, color='red')\n",
        "plt.xlabel('Time')\n",
        "plt.ylabel('Flourescence')\n",
        "plt.title('Cell #10, before bust, MODIP=10')"
      ],
      "metadata": {
        "colab": {
          "base_uri": "https://localhost:8080/",
          "height": 320
        },
        "id": "qFrHh3Y3PO7l",
        "outputId": "e7be58d4-f195-412f-8ff9-2b56c7c2d0c6"
      },
      "execution_count": 33,
      "outputs": [
        {
          "output_type": "execute_result",
          "data": {
            "text/plain": [
              "Text(0.5, 1.0, 'Cell #10, before bust, MODIP=10')"
            ]
          },
          "metadata": {},
          "execution_count": 33
        },
        {
          "output_type": "display_data",
          "data": {
            "image/png": "[encoded data removed]",
            "text/plain": [
              "<Figure size 432x288 with 1 Axes>"
            ]
          },
          "metadata": {}
        }
      ]
    },
    {
      "cell_type": "markdown",
      "source": [
        "We can differentiate, in the sense of Time Series theory."
      ],
      "metadata": {
        "id": "ztx8EAFphH06"
      }
    },
    {
      "cell_type": "code",
      "source": [
        "dtsg10 = ts_g_10.diff()[1:]\n",
        "dtsr10 = ts_r_10.diff()[1:]\n",
        "\n",
        "plt.plot(dtsg10, color='green')\n",
        "plt.plot(dtsr10, color='red')\n",
        "plt.xlabel('Time')\n",
        "plt.ylabel('Diff Flour')\n",
        "plt.title('Cell #10, MODIP=10, before bust')"
      ],
      "metadata": {
        "colab": {
          "base_uri": "https://localhost:8080/",
          "height": 320
        },
        "id": "WLr6SFM7Pnfv",
        "outputId": "731a2a24-04a5-4a16-9700-5252d876417f"
      },
      "execution_count": 34,
      "outputs": [
        {
          "output_type": "execute_result",
          "data": {
            "text/plain": [
              "Text(0.5, 1.0, 'Cell #10, MODIP=10, before bust')"
            ]
          },
          "metadata": {},
          "execution_count": 34
        },
        {
          "output_type": "display_data",
          "data": {
            "image/png": "[encoded data removed]",
            "text/plain": [
              "<Figure size 432x288 with 1 Axes>"
            ]
          },
          "metadata": {}
        }
      ]
    },
    {
      "cell_type": "code",
      "source": [
        "dtsg10.shape"
      ],
      "metadata": {
        "colab": {
          "base_uri": "https://localhost:8080/"
        },
        "id": "Pew1BGlyaUKo",
        "outputId": "eeddb99c-2153-4a40-aed1-ab59709c080c"
      },
      "execution_count": 35,
      "outputs": [
        {
          "output_type": "execute_result",
          "data": {
            "text/plain": [
              "(109,)"
            ]
          },
          "metadata": {},
          "execution_count": 35
        }
      ]
    },
    {
      "cell_type": "code",
      "source": [
        "dtsg10"
      ],
      "metadata": {
        "colab": {
          "base_uri": "https://localhost:8080/"
        },
        "id": "rMEJo5FJabSk",
        "outputId": "e225e1dc-2437-45a2-a42c-f20260b5de30"
      },
      "execution_count": 36,
      "outputs": [
        {
          "output_type": "execute_result",
          "data": {
            "text/plain": [
              "1      0.3375\n",
              "2     -0.0375\n",
              "3      0.0125\n",
              "4     -0.4625\n",
              "5      0.7750\n",
              "        ...  \n",
              "105   -0.0375\n",
              "106   -1.1000\n",
              "107   -0.3625\n",
              "108   -1.0000\n",
              "109    0.2000\n",
              "Name: 10, Length: 109, dtype: float64"
            ]
          },
          "metadata": {},
          "execution_count": 36
        }
      ]
    },
    {
      "cell_type": "markdown",
      "source": [
        "The first entry is always a NAN, so let's drop it "
      ],
      "metadata": {
        "id": "tgW_R9bdhTz5"
      }
    },
    {
      "cell_type": "code",
      "source": [
        "tsg10 = green10[10].iloc[1:110]\n",
        "tsr10 = red10[10].iloc[1:110]"
      ],
      "metadata": {
        "id": "E8djqoTcQxz8"
      },
      "execution_count": 24,
      "outputs": []
    },
    {
      "cell_type": "markdown",
      "source": [
        "Let's assemble the design matrix for the regression. First, we put together the two time series, in the restricted range that we chose. "
      ],
      "metadata": {
        "id": "Q514jYK9haS4"
      }
    },
    {
      "cell_type": "code",
      "source": [
        "X = pd.concat([tsg10, tsr10], axis=1)\n",
        "X"
      ],
      "metadata": {
        "colab": {
          "base_uri": "https://localhost:8080/",
          "height": 423
        },
        "id": "ZY0icasbSU5T",
        "outputId": "c07e3327-ac9b-43a4-b10f-a9c36d5eb49d"
      },
      "execution_count": 25,
      "outputs": [
        {
          "output_type": "execute_result",
          "data": {
            "text/html": [
              "\n",
              "  <div id=\"df-bfa2f0df-07b8-4908-8a18-a941806bdecc\">\n",
              "    <div class=\"colab-df-container\">\n",
              "      <div>\n",
              "<style scoped>\n",
              "    .dataframe tbody tr th:only-of-type {\n",
              "        vertical-align: middle;\n",
              "    }\n",
              "\n",
              "    .dataframe tbody tr th {\n",
              "        vertical-align: top;\n",
              "    }\n",
              "\n",
              "    .dataframe thead th {\n",
              "        text-align: right;\n",
              "    }\n",
              "</style>\n",
              "<table border=\"1\" class=\"dataframe\">\n",
              "  <thead>\n",
              "    <tr style=\"text-align: right;\">\n",
              "      <th></th>\n",
              "      <th>10</th>\n",
              "      <th>10</th>\n",
              "    </tr>\n",
              "  </thead>\n",
              "  <tbody>\n",
              "    <tr>\n",
              "      <th>1</th>\n",
              "      <td>0.7500</td>\n",
              "      <td>-0.1875</td>\n",
              "    </tr>\n",
              "    <tr>\n",
              "      <th>2</th>\n",
              "      <td>0.7125</td>\n",
              "      <td>-0.1750</td>\n",
              "    </tr>\n",
              "    <tr>\n",
              "      <th>3</th>\n",
              "      <td>0.7250</td>\n",
              "      <td>0.5000</td>\n",
              "    </tr>\n",
              "    <tr>\n",
              "      <th>4</th>\n",
              "      <td>0.2625</td>\n",
              "      <td>-0.2125</td>\n",
              "    </tr>\n",
              "    <tr>\n",
              "      <th>5</th>\n",
              "      <td>1.0375</td>\n",
              "      <td>-0.0750</td>\n",
              "    </tr>\n",
              "    <tr>\n",
              "      <th>...</th>\n",
              "      <td>...</td>\n",
              "      <td>...</td>\n",
              "    </tr>\n",
              "    <tr>\n",
              "      <th>105</th>\n",
              "      <td>13.3875</td>\n",
              "      <td>6.7625</td>\n",
              "    </tr>\n",
              "    <tr>\n",
              "      <th>106</th>\n",
              "      <td>12.2875</td>\n",
              "      <td>6.4625</td>\n",
              "    </tr>\n",
              "    <tr>\n",
              "      <th>107</th>\n",
              "      <td>11.9250</td>\n",
              "      <td>7.0500</td>\n",
              "    </tr>\n",
              "    <tr>\n",
              "      <th>108</th>\n",
              "      <td>10.9250</td>\n",
              "      <td>6.4625</td>\n",
              "    </tr>\n",
              "    <tr>\n",
              "      <th>109</th>\n",
              "      <td>11.1250</td>\n",
              "      <td>7.0375</td>\n",
              "    </tr>\n",
              "  </tbody>\n",
              "</table>\n",
              "<p>109 rows × 2 columns</p>\n",
              "</div>\n",
              "      <button class=\"colab-df-convert\" onclick=\"convertToInteractive('df-bfa2f0df-07b8-4908-8a18-a941806bdecc')\"\n",
              "              title=\"Convert this dataframe to an interactive table.\"\n",
              "              style=\"display:none;\">\n",
              "        \n",
              "  <svg xmlns=\"http://www.w3.org/2000/svg\" height=\"24px\"viewBox=\"0 0 24 24\"\n",
              "       width=\"24px\">\n",
              "    <path d=\"M0 0h24v24H0V0z\" fill=\"none\"/>\n",
              "    <path d=\"M18.56 5.44l.94 2.06.94-2.06 2.06-.94-2.06-.94-.94-2.06-.94 2.06-2.06.94zm-11 1L8.5 8.5l.94-2.06 2.06-.94-2.06-.94L8.5 2.5l-.94 2.06-2.06.94zm10 10l.94 2.06.94-2.06 2.06-.94-2.06-.94-.94-2.06-.94 2.06-2.06.94z\"/><path d=\"M17.41 7.96l-1.37-1.37c-.4-.4-.92-.59-1.43-.59-.52 0-1.04.2-1.43.59L10.3 9.45l-7.72 7.72c-.78.78-.78 2.05 0 2.83L4 21.41c.39.39.9.59 1.41.59.51 0 1.02-.2 1.41-.59l7.78-7.78 2.81-2.81c.8-.78.8-2.07 0-2.86zM5.41 20L4 18.59l7.72-7.72 1.47 1.35L5.41 20z\"/>\n",
              "  </svg>\n",
              "      </button>\n",
              "      \n",
              "  <style>\n",
              "    .colab-df-container {\n",
              "      display:flex;\n",
              "      flex-wrap:wrap;\n",
              "      gap: 12px;\n",
              "    }\n",
              "\n",
              "    .colab-df-convert {\n",
              "      background-color: #E8F0FE;\n",
              "      border: none;\n",
              "      border-radius: 50%;\n",
              "      cursor: pointer;\n",
              "      display: none;\n",
              "      fill: #1967D2;\n",
              "      height: 32px;\n",
              "      padding: 0 0 0 0;\n",
              "      width: 32px;\n",
              "    }\n",
              "\n",
              "    .colab-df-convert:hover {\n",
              "      background-color: #E2EBFA;\n",
              "      box-shadow: 0px 1px 2px rgba(60, 64, 67, 0.3), 0px 1px 3px 1px rgba(60, 64, 67, 0.15);\n",
              "      fill: #174EA6;\n",
              "    }\n",
              "\n",
              "    [theme=dark] .colab-df-convert {\n",
              "      background-color: #3B4455;\n",
              "      fill: #D2E3FC;\n",
              "    }\n",
              "\n",
              "    [theme=dark] .colab-df-convert:hover {\n",
              "      background-color: #434B5C;\n",
              "      box-shadow: 0px 1px 3px 1px rgba(0, 0, 0, 0.15);\n",
              "      filter: drop-shadow(0px 1px 2px rgba(0, 0, 0, 0.3));\n",
              "      fill: #FFFFFF;\n",
              "    }\n",
              "  </style>\n",
              "\n",
              "      <script>\n",
              "        const buttonEl =\n",
              "          document.querySelector('#df-bfa2f0df-07b8-4908-8a18-a941806bdecc button.colab-df-convert');\n",
              "        buttonEl.style.display =\n",
              "          google.colab.kernel.accessAllowed ? 'block' : 'none';\n",
              "\n",
              "        async function convertToInteractive(key) {\n",
              "          const element = document.querySelector('#df-bfa2f0df-07b8-4908-8a18-a941806bdecc');\n",
              "          const dataTable =\n",
              "            await google.colab.kernel.invokeFunction('convertToInteractive',\n",
              "                                                     [key], {});\n",
              "          if (!dataTable) return;\n",
              "\n",
              "          const docLinkHtml = 'Like what you see? Visit the ' +\n",
              "            '<a target=\"_blank\" href=https://colab.research.google.com/notebooks/data_table.ipynb>data table notebook</a>'\n",
              "            + ' to learn more about interactive tables.';\n",
              "          element.innerHTML = '';\n",
              "          dataTable['output_type'] = 'display_data';\n",
              "          await google.colab.output.renderOutput(dataTable, element);\n",
              "          const docLink = document.createElement('div');\n",
              "          docLink.innerHTML = docLinkHtml;\n",
              "          element.appendChild(docLink);\n",
              "        }\n",
              "      </script>\n",
              "    </div>\n",
              "  </div>\n",
              "  "
            ],
            "text/plain": [
              "          10      10\n",
              "1     0.7500 -0.1875\n",
              "2     0.7125 -0.1750\n",
              "3     0.7250  0.5000\n",
              "4     0.2625 -0.2125\n",
              "5     1.0375 -0.0750\n",
              "..       ...     ...\n",
              "105  13.3875  6.7625\n",
              "106  12.2875  6.4625\n",
              "107  11.9250  7.0500\n",
              "108  10.9250  6.4625\n",
              "109  11.1250  7.0375\n",
              "\n",
              "[109 rows x 2 columns]"
            ]
          },
          "metadata": {},
          "execution_count": 25
        }
      ]
    },
    {
      "cell_type": "markdown",
      "source": [
        "Then, we generate polynomial terms"
      ],
      "metadata": {
        "id": "rQTY399BhoP7"
      }
    },
    {
      "cell_type": "code",
      "source": [
        "from sklearn.preprocessing import PolynomialFeatures\n",
        "\n",
        "poly = PolynomialFeatures(5)\n",
        "X = poly.fit_transform(X)\n",
        "X"
      ],
      "metadata": {
        "colab": {
          "base_uri": "https://localhost:8080/"
        },
        "id": "3y0RgNnYUAnp",
        "outputId": "36f310c0-738d-488d-a0f7-0b076e56d307"
      },
      "execution_count": 26,
      "outputs": [
        {
          "output_type": "execute_result",
          "data": {
            "text/plain": [
              "array([[ 1.00000000e+00,  7.50000000e-01, -1.87500000e-01, ...,\n",
              "        -3.70788574e-03,  9.26971436e-04, -2.31742859e-04],\n",
              "       [ 1.00000000e+00,  7.12500000e-01, -1.75000000e-01, ...,\n",
              "        -2.72072021e-03,  6.68247070e-04, -1.64130859e-04],\n",
              "       [ 1.00000000e+00,  7.25000000e-01,  5.00000000e-01, ...,\n",
              "         6.57031250e-02,  4.53125000e-02,  3.12500000e-02],\n",
              "       ...,\n",
              "       [ 1.00000000e+00,  1.19250000e+01,  7.05000000e+00, ...,\n",
              "         4.98292243e+04,  2.94587867e+04,  1.74158865e+04],\n",
              "       [ 1.00000000e+00,  1.09250000e+01,  6.46250000e+00, ...,\n",
              "         3.22139930e+04,  1.90556457e+04,  1.12720467e+04],\n",
              "       [ 1.00000000e+00,  1.11250000e+01,  7.03750000e+00, ...,\n",
              "         4.31375289e+04,  2.72881222e+04,  1.72620368e+04]])"
            ]
          },
          "metadata": {},
          "execution_count": 26
        }
      ]
    },
    {
      "cell_type": "markdown",
      "source": [
        "Now, we perform Lasso regression"
      ],
      "metadata": {
        "id": "eRIX8R73k6N8"
      }
    },
    {
      "cell_type": "code",
      "source": [
        "from sklearn.linear_model import Lasso\n",
        "\n",
        "lassog = Lasso()\n",
        "lassog.fit(X, dtsg10)\n",
        "\n",
        "lassor = Lasso()\n",
        "lassor.fit(X, dtsr10)"
      ],
      "metadata": {
        "colab": {
          "base_uri": "https://localhost:8080/"
        },
        "id": "DjHchoRpUyHB",
        "outputId": "dbdc634a-039a-4006-9ce8-86ea125cfc79"
      },
      "execution_count": 58,
      "outputs": [
        {
          "output_type": "stream",
          "name": "stderr",
          "text": [
            "/usr/local/lib/python3.7/dist-packages/sklearn/linear_model/_coordinate_descent.py:648: ConvergenceWarning: Objective did not converge. You might want to increase the number of iterations, check the scale of the features or consider increasing regularisation. Duality gap: 5.591e+01, tolerance: 1.283e-02\n",
            "  coef_, l1_reg, l2_reg, X, y, max_iter, tol, rng, random, positive\n",
            "/usr/local/lib/python3.7/dist-packages/sklearn/linear_model/_coordinate_descent.py:648: ConvergenceWarning: Objective did not converge. You might want to increase the number of iterations, check the scale of the features or consider increasing regularisation. Duality gap: 2.161e+01, tolerance: 6.292e-03\n",
            "  coef_, l1_reg, l2_reg, X, y, max_iter, tol, rng, random, positive\n"
          ]
        },
        {
          "output_type": "execute_result",
          "data": {
            "text/plain": [
              "Lasso()"
            ]
          },
          "metadata": {},
          "execution_count": 58
        }
      ]
    },
    {
      "cell_type": "markdown",
      "source": [
        "Let's look at the coefficients"
      ],
      "metadata": {
        "id": "ecGEL03TlGQ0"
      }
    },
    {
      "cell_type": "code",
      "source": [
        "lassog.coef_"
      ],
      "metadata": {
        "colab": {
          "base_uri": "https://localhost:8080/"
        },
        "id": "zf_Z2adtXRgx",
        "outputId": "66f5ce57-da38-45de-9710-855a826238cf"
      },
      "execution_count": 59,
      "outputs": [
        {
          "output_type": "execute_result",
          "data": {
            "text/plain": [
              "array([ 0.00000000e+00, -0.00000000e+00, -0.00000000e+00, -0.00000000e+00,\n",
              "       -0.00000000e+00, -0.00000000e+00,  4.24638801e-03, -0.00000000e+00,\n",
              "       -5.06138887e-03, -4.82430014e-03,  1.25191903e-06, -1.33070620e-04,\n",
              "       -1.28568827e-04, -1.15388793e-04, -3.03702676e-04, -2.06625933e-05,\n",
              "        9.75969927e-06,  1.94238577e-05,  3.08991010e-05,  4.09530511e-05,\n",
              "        3.95470936e-05])"
            ]
          },
          "metadata": {},
          "execution_count": 59
        }
      ]
    },
    {
      "cell_type": "code",
      "source": [
        "lassor.coef_"
      ],
      "metadata": {
        "colab": {
          "base_uri": "https://localhost:8080/"
        },
        "id": "JhH9AsSFXfUR",
        "outputId": "ba4b83f8-6b16-4d3a-c580-d136ef9ace89"
      },
      "execution_count": 60,
      "outputs": [
        {
          "output_type": "execute_result",
          "data": {
            "text/plain": [
              "array([ 0.00000000e+00, -0.00000000e+00,  0.00000000e+00, -0.00000000e+00,\n",
              "       -0.00000000e+00, -0.00000000e+00, -1.04293113e-04, -0.00000000e+00,\n",
              "       -0.00000000e+00, -0.00000000e+00, -2.87041010e-05, -7.71851971e-05,\n",
              "       -7.40087118e-05, -0.00000000e+00,  1.57405521e-05,  6.79284077e-06,\n",
              "       -6.79064719e-06, -9.49485431e-06, -4.72247333e-06,  1.74915433e-05,\n",
              "        1.05841741e-04])"
            ]
          },
          "metadata": {},
          "execution_count": 60
        }
      ]
    },
    {
      "cell_type": "markdown",
      "source": [
        "As it common with Lasso regression, a bunch of them are exactly zero. So this is a relatively parsimoneous model "
      ],
      "metadata": {
        "id": "t0BwgBYmlKVc"
      }
    },
    {
      "cell_type": "markdown",
      "source": [
        "## How accurate is this model?\n",
        "\n",
        "First, let's look at the RMSE"
      ],
      "metadata": {
        "id": "vOu9MXpSlWEk"
      }
    },
    {
      "cell_type": "code",
      "source": [
        "dtsg10_pred = lassog.predict(X)\n",
        "dtsr10_pred = lassor.predict(X)"
      ],
      "metadata": {
        "id": "PY4WWb4Obz7A"
      },
      "execution_count": 45,
      "outputs": []
    },
    {
      "cell_type": "code",
      "source": [
        "from sklearn.metrics import mean_squared_error\n",
        "np.sqrt(mean_squared_error(dtsg10, dtsg10_pred))"
      ],
      "metadata": {
        "colab": {
          "base_uri": "https://localhost:8080/"
        },
        "id": "XAQy45d4chS9",
        "outputId": "1108fe85-2177-4b32-ba35-5774b2f3a147"
      },
      "execution_count": 46,
      "outputs": [
        {
          "output_type": "execute_result",
          "data": {
            "text/plain": [
              "1.0093979096678265"
            ]
          },
          "metadata": {},
          "execution_count": 46
        }
      ]
    },
    {
      "cell_type": "code",
      "source": [
        "from sklearn.metrics import mean_squared_error\n",
        "np.sqrt(mean_squared_error(dtsr10, dtsr10_pred))"
      ],
      "metadata": {
        "colab": {
          "base_uri": "https://localhost:8080/"
        },
        "id": "U32Fk0d2dBnD",
        "outputId": "b9ad8331-511f-4c0c-b47b-421b26567890"
      },
      "execution_count": 47,
      "outputs": [
        {
          "output_type": "execute_result",
          "data": {
            "text/plain": [
              "0.6596392468093446"
            ]
          },
          "metadata": {},
          "execution_count": 47
        }
      ]
    },
    {
      "cell_type": "markdown",
      "source": [
        "Considering "
      ],
      "metadata": {
        "id": "dtclTZMDlh-C"
      }
    },
    {
      "cell_type": "code",
      "source": [
        "np.std(dtsg10), np.std(dtsr10)"
      ],
      "metadata": {
        "colab": {
          "base_uri": "https://localhost:8080/"
        },
        "id": "urt2kg0DlkEE",
        "outputId": "806be6b2-1318-498b-f4d8-d2f50e28fa75"
      },
      "execution_count": 63,
      "outputs": [
        {
          "output_type": "execute_result",
          "data": {
            "text/plain": [
              "(1.0848181736437938, 0.7597495672471585)"
            ]
          },
          "metadata": {},
          "execution_count": 63
        }
      ]
    },
    {
      "cell_type": "markdown",
      "source": [
        "This is not good. The errors are of the order of magnitude of sd. "
      ],
      "metadata": {
        "id": "zdacn6Val2-_"
      }
    },
    {
      "cell_type": "markdown",
      "source": [
        "Another diagnostic step is to plot the residuals of the model against the predicted values "
      ],
      "metadata": {
        "id": "wa-SNhmsmBbq"
      }
    },
    {
      "cell_type": "code",
      "source": [
        "plt.scatter(dtsg10_pred, dtsg10 - dtsg10_pred)"
      ],
      "metadata": {
        "colab": {
          "base_uri": "https://localhost:8080/",
          "height": 287
        },
        "id": "GuSkgWRYd17g",
        "outputId": "e967fb3b-1980-417c-a9a7-fbf6be59bf9c"
      },
      "execution_count": 50,
      "outputs": [
        {
          "output_type": "execute_result",
          "data": {
            "text/plain": [
              "<matplotlib.collections.PathCollection at 0x7fea380e6410>"
            ]
          },
          "metadata": {},
          "execution_count": 50
        },
        {
          "output_type": "display_data",
          "data": {
            "image/png": "[encoded data removed]",
            "text/plain": [
              "<Figure size 432x288 with 1 Axes>"
            ]
          },
          "metadata": {}
        }
      ]
    },
    {
      "cell_type": "code",
      "source": [
        "plt.scatter(dtsr10_pred, dtsr10 - dtsr10_pred)"
      ],
      "metadata": {
        "colab": {
          "base_uri": "https://localhost:8080/",
          "height": 287
        },
        "id": "1eu2Fc2zeLs8",
        "outputId": "09ca144d-7009-44d0-d03b-09ab967fa97b"
      },
      "execution_count": 51,
      "outputs": [
        {
          "output_type": "execute_result",
          "data": {
            "text/plain": [
              "<matplotlib.collections.PathCollection at 0x7fea380e6d90>"
            ]
          },
          "metadata": {},
          "execution_count": 51
        },
        {
          "output_type": "display_data",
          "data": {
            "image/png": "[encoded data removed]",
            "text/plain": [
              "<Figure size 432x288 with 1 Axes>"
            ]
          },
          "metadata": {}
        }
      ]
    },
    {
      "cell_type": "markdown",
      "source": [
        "At least these are not that bad. No curvature, a little  heteroskedasticity"
      ],
      "metadata": {
        "id": "iYuUnNztmJBT"
      }
    },
    {
      "cell_type": "markdown",
      "source": [
        "## Other attempts \n",
        "\n",
        "### A different library"
      ],
      "metadata": {
        "id": "2ARUou7LbxSD"
      }
    },
    {
      "cell_type": "code",
      "source": [
        "import statsmodels.api as sm\n",
        "\n",
        "modelg = sm.OLS(dtsg10, X)\n",
        "resultg = modelg.fit_regularized(alpha=1., L1_wt=1)\n",
        "\n",
        "modelr = sm.OLS(dtsr10, X)\n",
        "resultr = modelr.fit_regularized(alpha=1., L1_wt=1)"
      ],
      "metadata": {
        "id": "STVLiIxAYZfU"
      },
      "execution_count": 37,
      "outputs": []
    },
    {
      "cell_type": "code",
      "source": [
        "resultg.params"
      ],
      "metadata": {
        "colab": {
          "base_uri": "https://localhost:8080/"
        },
        "id": "McwFVOhIZ_AF",
        "outputId": "021e7056-3200-4dfa-a8ef-48505ed9e684"
      },
      "execution_count": 40,
      "outputs": [
        {
          "output_type": "execute_result",
          "data": {
            "text/plain": [
              "const    0.000000e+00\n",
              "x1       0.000000e+00\n",
              "x2       0.000000e+00\n",
              "x3       2.233011e-03\n",
              "x4       0.000000e+00\n",
              "x5       0.000000e+00\n",
              "x6       2.484885e-04\n",
              "x7      -2.138697e-04\n",
              "x8      -6.419348e-04\n",
              "x9      -1.231177e-03\n",
              "x10      2.763842e-05\n",
              "x11      3.574091e-06\n",
              "x12     -2.996090e-06\n",
              "x13     -3.198481e-05\n",
              "x14     -1.055149e-04\n",
              "x15      0.000000e+00\n",
              "x16      4.892239e-07\n",
              "x17      3.161265e-06\n",
              "x18      3.219137e-06\n",
              "x19      1.120476e-06\n",
              "x20     -6.145701e-06\n",
              "dtype: float64"
            ]
          },
          "metadata": {},
          "execution_count": 40
        }
      ]
    },
    {
      "cell_type": "code",
      "source": [
        "resultr.params"
      ],
      "metadata": {
        "colab": {
          "base_uri": "https://localhost:8080/"
        },
        "id": "7xxPBTpiapmQ",
        "outputId": "0f21dfdb-92c6-4b18-e8d8-ae701eab2268"
      },
      "execution_count": 44,
      "outputs": [
        {
          "output_type": "execute_result",
          "data": {
            "text/plain": [
              "const    0.000000e+00\n",
              "x1       0.000000e+00\n",
              "x2       0.000000e+00\n",
              "x3      -2.500721e-03\n",
              "x4       0.000000e+00\n",
              "x5       0.000000e+00\n",
              "x6      -3.992566e-04\n",
              "x7      -2.607166e-05\n",
              "x8       1.527000e-04\n",
              "x9       6.260507e-04\n",
              "x10     -1.148309e-05\n",
              "x11      5.713761e-06\n",
              "x12      2.271558e-05\n",
              "x13      5.832758e-05\n",
              "x14      1.318368e-04\n",
              "x15     -2.774484e-06\n",
              "x16      3.100731e-07\n",
              "x17      1.204802e-06\n",
              "x18      3.324907e-06\n",
              "x19      8.017025e-06\n",
              "x20      1.776394e-05\n",
              "dtype: float64"
            ]
          },
          "metadata": {},
          "execution_count": 44
        }
      ]
    },
    {
      "cell_type": "markdown",
      "source": [
        "To my surprise, no other statistical tools are available with these library either. "
      ],
      "metadata": {
        "id": "Q1E2PBJFnRMO"
      }
    },
    {
      "cell_type": "markdown",
      "source": [
        "### OLS\n",
        "\n",
        "What happens if we just use OLS?\n",
        "\n",
        "One hand, the model will not be as parsimoneus. On the other hand, the model will be slightly less precise, but not by much. "
      ],
      "metadata": {
        "id": "gzdnbgiwnaIB"
      }
    },
    {
      "cell_type": "code",
      "source": [
        "modelgsimple = sm.OLS(dtsg10, X)\n",
        "resultgsimple = modelgsimple.fit()\n",
        "\n",
        "modelrsimple = sm.OLS(dtsr10, X)\n",
        "resultrsimple = modelrsimple.fit()"
      ],
      "metadata": {
        "id": "CEhBANMzdUUJ"
      },
      "execution_count": 52,
      "outputs": []
    },
    {
      "cell_type": "code",
      "source": [
        "print(resultgsimple.summary())"
      ],
      "metadata": {
        "colab": {
          "base_uri": "https://localhost:8080/"
        },
        "id": "cVy1QDrFe3-s",
        "outputId": "deb1161b-ab3f-4e17-9dbe-02f0a178f004"
      },
      "execution_count": 53,
      "outputs": [
        {
          "output_type": "stream",
          "name": "stdout",
          "text": [
            "                            OLS Regression Results                            \n",
            "==============================================================================\n",
            "Dep. Variable:                     10   R-squared:                       0.238\n",
            "Model:                            OLS   Adj. R-squared:                  0.065\n",
            "Method:                 Least Squares   F-statistic:                     1.373\n",
            "Date:                Thu, 24 Feb 2022   Prob (F-statistic):              0.158\n",
            "Time:                        16:06:19   Log-Likelihood:                -148.74\n",
            "No. Observations:                 109   AIC:                             339.5\n",
            "Df Residuals:                      88   BIC:                             396.0\n",
            "Df Model:                          20                                         \n",
            "Covariance Type:            nonrobust                                         \n",
            "==============================================================================\n",
            "                 coef    std err          t      P>|t|      [0.025      0.975]\n",
            "------------------------------------------------------------------------------\n",
            "const         -0.6011      0.745     -0.807      0.422      -2.082       0.879\n",
            "x1             1.2581      1.178      1.068      0.289      -1.084       3.600\n",
            "x2             1.0111      1.489      0.679      0.499      -1.948       3.971\n",
            "x3            -1.4289      0.862     -1.658      0.101      -3.142       0.284\n",
            "x4             1.0086      2.480      0.407      0.685      -3.920       5.937\n",
            "x5            -0.2711      2.187     -0.124      0.902      -4.618       4.076\n",
            "x6             0.9175      0.822      1.116      0.267      -0.716       2.551\n",
            "x7            -3.3518      3.527     -0.950      0.345     -10.361       3.657\n",
            "x8             5.4049      5.311      1.018      0.312      -5.149      15.959\n",
            "x9            -3.1747      2.959     -1.073      0.286      -9.054       2.705\n",
            "x10           -0.0478      0.254     -0.188      0.851      -0.553       0.458\n",
            "x11           -0.0351      1.531     -0.023      0.982      -3.077       3.007\n",
            "x12            0.6762      3.653      0.185      0.854      -6.584       7.936\n",
            "x13           -1.3916      4.103     -0.339      0.735      -9.545       6.762\n",
            "x14            0.8750      1.832      0.478      0.634      -2.765       4.515\n",
            "x15            0.0028      0.025      0.115      0.909      -0.046       0.052\n",
            "x16           -0.0203      0.162     -0.125      0.901      -0.342       0.302\n",
            "x17            0.0865      0.410      0.211      0.833      -0.728       0.901\n",
            "x18           -0.2047      0.509     -0.402      0.688      -1.216       0.806\n",
            "x19            0.2446      0.351      0.697      0.488      -0.453       0.942\n",
            "x20           -0.1152      0.135     -0.850      0.398      -0.384       0.154\n",
            "==============================================================================\n",
            "Omnibus:                        0.071   Durbin-Watson:                   2.626\n",
            "Prob(Omnibus):                  0.965   Jarque-Bera (JB):                0.003\n",
            "Skew:                          -0.008   Prob(JB):                        0.999\n",
            "Kurtosis:                       2.981   Cond. No.                     1.38e+07\n",
            "==============================================================================\n",
            "\n",
            "Warnings:\n",
            "[1] Standard Errors assume that the covariance matrix of the errors is correctly specified.\n",
            "[2] The condition number is large, 1.38e+07. This might indicate that there are\n",
            "strong multicollinearity or other numerical problems.\n"
          ]
        }
      ]
    },
    {
      "cell_type": "code",
      "source": [
        "print(resultrsimple.summary())"
      ],
      "metadata": {
        "colab": {
          "base_uri": "https://localhost:8080/"
        },
        "id": "767BD_nFe7OE",
        "outputId": "20b6ddba-a1c4-450b-c5b7-4a1a73ca1c2c"
      },
      "execution_count": 54,
      "outputs": [
        {
          "output_type": "stream",
          "name": "stdout",
          "text": [
            "                            OLS Regression Results                            \n",
            "==============================================================================\n",
            "Dep. Variable:                     10   R-squared:                       0.333\n",
            "Model:                            OLS   Adj. R-squared:                  0.181\n",
            "Method:                 Least Squares   F-statistic:                     2.195\n",
            "Date:                Thu, 24 Feb 2022   Prob (F-statistic):            0.00655\n",
            "Time:                        16:06:41   Log-Likelihood:                -102.66\n",
            "No. Observations:                 109   AIC:                             247.3\n",
            "Df Residuals:                      88   BIC:                             303.8\n",
            "Df Model:                          20                                         \n",
            "Covariance Type:            nonrobust                                         \n",
            "==============================================================================\n",
            "                 coef    std err          t      P>|t|      [0.025      0.975]\n",
            "------------------------------------------------------------------------------\n",
            "const          0.2152      0.488      0.441      0.660      -0.755       1.185\n",
            "x1            -0.3604      0.772     -0.467      0.642      -1.895       1.174\n",
            "x2             1.2496      0.976      1.281      0.204      -0.690       3.189\n",
            "x3            -0.7456      0.565     -1.320      0.190      -1.868       0.377\n",
            "x4             2.1716      1.625      1.336      0.185      -1.058       5.401\n",
            "x5            -2.1145      1.433     -1.475      0.144      -4.963       0.734\n",
            "x6             0.4743      0.539      0.880      0.381      -0.596       1.545\n",
            "x7            -1.6169      2.311     -0.700      0.486      -6.209       2.976\n",
            "x8             1.6735      3.480      0.481      0.632      -5.242       8.589\n",
            "x9            -0.3454      1.939     -0.178      0.859      -4.198       3.507\n",
            "x10            0.0958      0.167      0.575      0.567      -0.236       0.427\n",
            "x11           -0.7878      1.003     -0.785      0.434      -2.781       1.205\n",
            "x12            2.1360      2.394      0.892      0.375      -2.621       6.893\n",
            "x13           -2.3763      2.689     -0.884      0.379      -7.719       2.967\n",
            "x14            0.9190      1.200      0.766      0.446      -1.466       3.304\n",
            "x15           -0.0179      0.016     -1.102      0.273      -0.050       0.014\n",
            "x16            0.1233      0.106      1.161      0.249      -0.088       0.334\n",
            "x17           -0.3127      0.269     -1.164      0.248      -0.847       0.221\n",
            "x18            0.3554      0.333      1.066      0.289      -0.307       1.018\n",
            "x19           -0.1676      0.230     -0.729      0.468      -0.624       0.289\n",
            "x20            0.0198      0.089      0.223      0.824      -0.157       0.196\n",
            "==============================================================================\n",
            "Omnibus:                        0.329   Durbin-Watson:                   2.435\n",
            "Prob(Omnibus):                  0.848   Jarque-Bera (JB):                0.492\n",
            "Skew:                          -0.088   Prob(JB):                        0.782\n",
            "Kurtosis:                       2.722   Cond. No.                     1.38e+07\n",
            "==============================================================================\n",
            "\n",
            "Warnings:\n",
            "[1] Standard Errors assume that the covariance matrix of the errors is correctly specified.\n",
            "[2] The condition number is large, 1.38e+07. This might indicate that there are\n",
            "strong multicollinearity or other numerical problems.\n"
          ]
        }
      ]
    },
    {
      "cell_type": "markdown",
      "source": [
        "This is not a great model for this data. \n",
        "\n",
        "We could integrate the predicted series to compare it to the original one. The model is capable of capturing the main dynamics, but it's not precise at all. "
      ],
      "metadata": {
        "id": "_Mfx7I6cn7Mu"
      }
    },
    {
      "cell_type": "code",
      "source": [
        "plt.plot(np.cumsum(dtsg10_pred), color='blue', label='predicted')\n",
        "plt.plot(tsg10, color='green', label='actual')\n",
        "plt.legend()"
      ],
      "metadata": {
        "colab": {
          "base_uri": "https://localhost:8080/",
          "height": 287
        },
        "id": "-THS0nqJpv6j",
        "outputId": "264d0561-7b22-4121-802a-91cdc03b57bb"
      },
      "execution_count": 68,
      "outputs": [
        {
          "output_type": "execute_result",
          "data": {
            "text/plain": [
              "<matplotlib.legend.Legend at 0x7fea367cf250>"
            ]
          },
          "metadata": {},
          "execution_count": 68
        },
        {
          "output_type": "display_data",
          "data": {
            "image/png": "[encoded data removed]",
            "text/plain": [
              "<Figure size 432x288 with 1 Axes>"
            ]
          },
          "metadata": {}
        }
      ]
    },
    {
      "cell_type": "markdown",
      "source": [
        "## Discussion\n",
        "\n",
        "* If I implemented full SINDy, the results would be even less precise\n",
        "  * making the model parsimoneous sacrifices accuracy, which is already lacking. \n",
        "\n",
        "* Why? \n",
        "    * bad estimates for the derivative \n",
        "    * series is not long enough, not a lot of data\n",
        "\n",
        "* TODO\n",
        "    * Stochastic SINDy\n",
        "\n",
        "\n",
        "\n"
      ],
      "metadata": {
        "id": "D8XMs3TvoHQD"
      }
    },
    {
      "cell_type": "code",
      "source": [
        ""
      ],
      "metadata": {
        "id": "y-H9bA-CoEHa"
      },
      "execution_count": null,
      "outputs": []
    }
  ]
}